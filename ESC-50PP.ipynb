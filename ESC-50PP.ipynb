{
 "cells": [
  {
   "cell_type": "code",
   "execution_count": 1,
   "metadata": {
    "colab": {
     "base_uri": "https://localhost:8080/"
    },
    "executionInfo": {
     "elapsed": 14592,
     "status": "ok",
     "timestamp": 1754948816169,
     "user": {
      "displayName": "Eric Rinkam",
      "userId": "05935881698423884674"
     },
     "user_tz": 300
    },
    "id": "9psl_FzTshxH",
    "outputId": "e48056a0-ef5e-4ebf-fbbf-f52656cb8969"
   },
   "outputs": [
    {
     "name": "stdout",
     "output_type": "stream",
     "text": [
      "Mounted at /content/drive\n"
     ]
    }
   ],
   "source": [
    "# connect to google drive\n",
    "from google.colab import drive\n",
    "drive.mount('/content/drive')"
   ]
  },
  {
   "cell_type": "code",
   "execution_count": 2,
   "metadata": {
    "executionInfo": {
     "elapsed": 470,
     "status": "ok",
     "timestamp": 1754948911570,
     "user": {
      "displayName": "Eric Rinkam",
      "userId": "05935881698423884674"
     },
     "user_tz": 300
    },
    "id": "iypyqwz3su-h"
   },
   "outputs": [],
   "source": [
    "# Imports\n",
    "import pandas as pd\n",
    "import numpy as np\n",
    "import librosa\n",
    "import os\n",
    "import json\n",
    "from joblib import Parallel, delayed\n",
    "import math"
   ]
  },
  {
   "cell_type": "code",
   "execution_count": 3,
   "metadata": {
    "executionInfo": {
     "elapsed": 20470,
     "status": "ok",
     "timestamp": 1754948968539,
     "user": {
      "displayName": "Eric Rinkam",
      "userId": "05935881698423884674"
     },
     "user_tz": 300
    },
    "id": "bvExNElrMzN1"
   },
   "outputs": [],
   "source": [
    "# Get data into colab\n",
    "ZIP_PATH = \"/content/drive/My Drive/Summer 2025/ESC-50 Water Project/audio/ESC-50-master.zip\"\n",
    "DESTINATION_DIR = \"/content/\"\n",
    "\n",
    "!unzip -q \"{ZIP_PATH}\" -d \"{DESTINATION_DIR}\""
   ]
  },
  {
   "cell_type": "code",
   "execution_count": 4,
   "metadata": {
    "executionInfo": {
     "elapsed": 17,
     "status": "ok",
     "timestamp": 1754949087780,
     "user": {
      "displayName": "Eric Rinkam",
      "userId": "05935881698423884674"
     },
     "user_tz": 300
    },
    "id": "IVlKsP05xOoY"
   },
   "outputs": [],
   "source": [
    "# Create constants\n",
    "\n",
    "# File paths\n",
    "ESC50_DIR = \"/content/ESC-50-master/\"\n",
    "AUDIO_DIR = os.path.join(ESC50_DIR, \"audio\")\n",
    "CSV_PATH = os.path.join(ESC50_DIR, \"meta/esc50.csv\")\n",
    "\n",
    "# Directory to save the new .npz files\n",
    "OUTPUT_DIR_NPZ = \"/content/drive/My Drive/Summer 2025/ESC-50 Water Project/audio/npz_files\"\n",
    "\n",
    "# Audio processing constant\n",
    "SAMPLE_RATE = 22050"
   ]
  },
  {
   "cell_type": "code",
   "execution_count": 5,
   "metadata": {
    "colab": {
     "base_uri": "https://localhost:8080/"
    },
    "executionInfo": {
     "elapsed": 73,
     "status": "ok",
     "timestamp": 1754949135122,
     "user": {
      "displayName": "Eric Rinkam",
      "userId": "05935881698423884674"
     },
     "user_tz": 300
    },
    "id": "wc7LLpGju0Gw",
    "outputId": "2bbe17bb-eb51-4fc1-9038-7aaf19870aba"
   },
   "outputs": [
    {
     "name": "stdout",
     "output_type": "stream",
     "text": [
      "DataFrame with new 'is_water' column:\n",
      "            filename  fold  target        category  esc10  src_file take  \\\n",
      "0   1-100032-A-0.wav     1       0             dog   True    100032    A   \n",
      "1  1-100038-A-14.wav     1      14  chirping_birds  False    100038    A   \n",
      "2  1-100210-A-36.wav     1      36  vacuum_cleaner  False    100210    A   \n",
      "3  1-100210-B-36.wav     1      36  vacuum_cleaner  False    100210    B   \n",
      "4  1-101296-A-19.wav     1      19    thunderstorm  False    101296    A   \n",
      "\n",
      "   is_water  \n",
      "0         0  \n",
      "1         0  \n",
      "2         0  \n",
      "3         0  \n",
      "4         0  \n",
      "Totals:\n",
      "is_water\n",
      "0    1880\n",
      "1     120\n",
      "Name: count, dtype: int64\n"
     ]
    }
   ],
   "source": [
    "# Load csv using pandas\n",
    "df = pd.read_csv(CSV_PATH)\n",
    "\n",
    "'''\n",
    "Will only be focusing on water and non-water categories making this a binary\n",
    "classification problem\n",
    "'''\n",
    "\n",
    "# categories to be considered as water\n",
    "water_categories = ['pouring_water', 'toilet_flush', 'water_drops']\n",
    "\n",
    "# Make a new column called is_water\n",
    "\n",
    "# .astype(int) changes the True or False val to 1 or 0\n",
    "df['is_water'] = df['category'].isin(water_categories).astype(int)\n",
    "\n",
    "# Print the first 5 rows for verification\n",
    "print(\"DataFrame with new 'is_water' column:\")\n",
    "print(df.head())\n",
    "\n",
    "# Print counts of each class to see the totals\n",
    "print(\"Totals:\")\n",
    "print(df['is_water'].value_counts())"
   ]
  },
  {
   "cell_type": "code",
   "execution_count": 6,
   "metadata": {
    "colab": {
     "base_uri": "https://localhost:8080/"
    },
    "executionInfo": {
     "elapsed": 45,
     "status": "ok",
     "timestamp": 1754949161526,
     "user": {
      "displayName": "Eric Rinkam",
      "userId": "05935881698423884674"
     },
     "user_tz": 300
    },
    "id": "Ej4rDFdv-nwh",
    "outputId": "1f524720-6a14-4b4b-9525-309b364e2c21"
   },
   "outputs": [
    {
     "name": "stdout",
     "output_type": "stream",
     "text": [
      "Balanced DataFrame Totals:\n",
      "is_water\n",
      "1    120\n",
      "0    120\n",
      "Name: count, dtype: int64\n"
     ]
    }
   ],
   "source": [
    "# Separate the two categories\n",
    "df_water = df[df['is_water'] == 1]\n",
    "df_no_water = df[df['is_water'] == 0]\n",
    "\n",
    "'''\n",
    "Randomly sample the 'no_water' class to match the number of 'water' samples.\n",
    "This ensures a balanced dataset for training allowing the model to learn\n",
    "patterns for the classification of water.\n",
    "'''\n",
    "df_no_water_balanced = df_no_water.sample(n=len(df_water), random_state=42)\n",
    "\n",
    "# Combine the balanced dataframes\n",
    "df_balanced = pd.concat([df_water, df_no_water_balanced])\n",
    "\n",
    "# Print counts of each class to see the totals\n",
    "print(\"Balanced DataFrame Totals:\")\n",
    "print(df_balanced['is_water'].value_counts())"
   ]
  },
  {
   "cell_type": "code",
   "execution_count": null,
   "metadata": {
    "id": "ciYf3mec0VtS"
   },
   "outputs": [],
   "source": [
    "def process_audio_file(file_path, label, num_mfcc, n_fft, hop_length, segment_duration_s):\n",
    "    \"\"\"\n",
    "    Loads one 5-second audio file, extracts its MFCCs, and slices them\n",
    "    into smaller segments for a certain duration\n",
    "\n",
    "    Args:\n",
    "        file_path (str): Path to the audio file\n",
    "        label (int): Label for the audio file\n",
    "        num_mfcc (int): Number of MFCCs to extract\n",
    "        n_fft (int): FFT size\n",
    "        hop_length (int): Hop length for the FFT\n",
    "        segment_duration_s (float): Duration of each segment in seconds\n",
    "\n",
    "    Returns:\n",
    "        mfcc_segments (list): List of MFCC segments\n",
    "        labels_for_segments (list): List of labels for each segment\n",
    "    \"\"\"\n",
    "\n",
    "    try:\n",
    "        # Load audio file\n",
    "        signal, sr = librosa.load(file_path, sr=SAMPLE_RATE)\n",
    "\n",
    "        # Extract MFCCs for the whole audio\n",
    "        mfcc_full = librosa.feature.mfcc(y=signal, sr=sr, n_mfcc=num_mfcc, n_fft=n_fft, hop_length=hop_length)\n",
    "\n",
    "        # For segmentation\n",
    "        mfcc_segments = []\n",
    "        labels_for_segments = []\n",
    "\n",
    "        total_frames = mfcc_full.shape[1]\n",
    "        samples_per_segment = int(segment_duration_s * sr)\n",
    "\n",
    "        # Calculate how many MFCC frames are in each segment\n",
    "        frames_per_segment = math.ceil(samples_per_segment / hop_length)\n",
    "\n",
    "        # Calculate the number of segments that fit in the clip\n",
    "        num_segments = total_frames // frames_per_segment\n",
    "\n",
    "        # Snip the mfcc into it's segments\n",
    "        for i in range(num_segments):\n",
    "            start = i * frames_per_segment\n",
    "            end = start + frames_per_segment\n",
    "            # Get the segment and transpose so time is the first dimension\n",
    "            segment = mfcc_full[:, start:end].T\n",
    "            mfcc_segments.append(segment)\n",
    "            labels_for_segments.append(label)\n",
    "\n",
    "        return mfcc_segments, labels_for_segments\n",
    "    # got a bad audio file\n",
    "    except Exception as e:\n",
    "        print(f\"Error processing {file_path}: {e}\")\n",
    "        return [], []"
   ]
  },
  {
   "cell_type": "code",
   "execution_count": null,
   "metadata": {
    "id": "_V7hux0H27I1"
   },
   "outputs": [],
   "source": [
    "def save_features_to_npz(dataframe, num_mfcc=32, n_fft=512, overlap=0.5, segment_duration_s=1.0):\n",
    "    \"\"\"\n",
    "    Manages the extraction of MFCCs from all audio files and saves to a .npz file.\n",
    "    Uses parallel processing to speed up the process.\n",
    "\n",
    "    Args:\n",
    "        dataframe (pd.DataFrame): DataFrame containing audio file paths and labels\n",
    "        num_mfcc (int): Number of MFCCs to extract\n",
    "        n_fft (int): FFT size\n",
    "        overlap (float): Percentage of overlap between segments\n",
    "        segment_duration_s (float): Duration of each segment in seconds\n",
    "    \"\"\"\n",
    "\n",
    "    # Calculate hop_length using n_fft and the overlap percentage\n",
    "    hop_length = int(n_fft * (1 - overlap))\n",
    "    overlap_percent = int(overlap * 100)\n",
    "\n",
    "    # Calculate the duration of each segment in milliseconds for the filename\n",
    "    duration_ms = int(segment_duration_s * 1000)\n",
    "\n",
    "    # Create a filename based on the parameters\n",
    "    npz_filename = f\"esc50_mfcc_n{num_mfcc}_fft{n_fft}_ovlp{overlap_percent}_seg{duration_ms}ms.npz\"\n",
    "    output_path = os.path.join(OUTPUT_DIR_NPZ, npz_filename)\n",
    "    print(f\"Starting job for: {npz_filename}\")\n",
    "\n",
    "    # Prepare \"Jobs\" for paralell processing\n",
    "    jobs = []\n",
    "    for index, row in dataframe.iterrows():\n",
    "        file_path = os.path.join(AUDIO_DIR, row['filename'])\n",
    "        label = row['is_water']\n",
    "        # passed as a tuple\n",
    "        jobs.append((file_path, label))\n",
    "\n",
    "    # Run Parallel Processing\n",
    "    results = Parallel(n_jobs=-1, verbose=1)(\n",
    "        delayed(process_audio_file)(\n",
    "            file_path, label, num_mfcc, n_fft, hop_length, segment_duration_s\n",
    "        ) for file_path, label in jobs\n",
    "    )\n",
    "\n",
    "    # Collect Results\n",
    "    # Use .extend() since jobs return a list of segments\n",
    "    final_mfccs = []\n",
    "    final_labels = []\n",
    "    for mfcc_list, label_list in results:\n",
    "        final_mfccs.extend(mfcc_list)\n",
    "        final_labels.extend(label_list)\n",
    "\n",
    "    # Save to .npz\n",
    "    np.savez_compressed(output_path,\n",
    "                      mfcc=final_mfccs,\n",
    "                      labels=final_labels,\n",
    "                      mapping=['no_water', 'water'])\n",
    "\n",
    "    print(f\"Successfully saved data to: {output_path}\\\\n\")"
   ]
  },
  {
   "cell_type": "code",
   "execution_count": null,
   "metadata": {
    "colab": {
     "base_uri": "https://localhost:8080/"
    },
    "executionInfo": {
     "elapsed": 244348,
     "status": "ok",
     "timestamp": 1752279831022,
     "user": {
      "displayName": "Eric Rinkam",
      "userId": "05935881698423884674"
     },
     "user_tz": 300
    },
    "id": "La50Hzcp6VmJ",
    "outputId": "ea94e69a-e8a2-45fd-87b5-92909aa14ac5"
   },
   "outputs": [
    {
     "name": "stdout",
     "output_type": "stream",
     "text": [
      "Starting job for: esc50_mfcc_n32_fft512_ovlp50_seg25ms.npz\n"
     ]
    },
    {
     "name": "stderr",
     "output_type": "stream",
     "text": [
      "[Parallel(n_jobs=-1)]: Using backend LokyBackend with 2 concurrent workers.\n",
      "[Parallel(n_jobs=-1)]: Done 160 tasks      | elapsed:    6.8s\n",
      "[Parallel(n_jobs=-1)]: Done 240 out of 240 | elapsed:    7.6s finished\n"
     ]
    },
    {
     "name": "stdout",
     "output_type": "stream",
     "text": [
      "Successfully saved data to: /content/drive/My Drive/Summer 2025/Python Practice/audio/npz_files/esc50_mfcc_n32_fft512_ovlp50_seg25ms.npz\\n\n",
      "Starting job for: esc50_mfcc_n32_fft1024_ovlp50_seg25ms.npz\n"
     ]
    },
    {
     "name": "stderr",
     "output_type": "stream",
     "text": [
      "[Parallel(n_jobs=-1)]: Using backend LokyBackend with 2 concurrent workers.\n",
      "[Parallel(n_jobs=-1)]: Done 237 out of 240 | elapsed:    2.1s remaining:    0.0s\n",
      "[Parallel(n_jobs=-1)]: Done 240 out of 240 | elapsed:    2.2s finished\n"
     ]
    },
    {
     "name": "stdout",
     "output_type": "stream",
     "text": [
      "Successfully saved data to: /content/drive/My Drive/Summer 2025/Python Practice/audio/npz_files/esc50_mfcc_n32_fft1024_ovlp50_seg25ms.npz\\n\n",
      "Starting job for: esc50_mfcc_n32_fft2048_ovlp50_seg25ms.npz\n"
     ]
    },
    {
     "name": "stderr",
     "output_type": "stream",
     "text": [
      "[Parallel(n_jobs=-1)]: Using backend LokyBackend with 2 concurrent workers.\n",
      "[Parallel(n_jobs=-1)]: Done 240 out of 240 | elapsed:    2.5s finished\n"
     ]
    },
    {
     "name": "stdout",
     "output_type": "stream",
     "text": [
      "Successfully saved data to: /content/drive/My Drive/Summer 2025/Python Practice/audio/npz_files/esc50_mfcc_n32_fft2048_ovlp50_seg25ms.npz\\n\n",
      "Starting job for: esc50_mfcc_n64_fft512_ovlp50_seg25ms.npz\n"
     ]
    },
    {
     "name": "stderr",
     "output_type": "stream",
     "text": [
      "[Parallel(n_jobs=-1)]: Using backend LokyBackend with 2 concurrent workers.\n",
      "[Parallel(n_jobs=-1)]: Done 164 tasks      | elapsed:    2.9s\n",
      "[Parallel(n_jobs=-1)]: Done 240 out of 240 | elapsed:    4.0s finished\n"
     ]
    },
    {
     "name": "stdout",
     "output_type": "stream",
     "text": [
      "Successfully saved data to: /content/drive/My Drive/Summer 2025/Python Practice/audio/npz_files/esc50_mfcc_n64_fft512_ovlp50_seg25ms.npz\\n\n",
      "Starting job for: esc50_mfcc_n64_fft1024_ovlp50_seg25ms.npz\n"
     ]
    },
    {
     "name": "stderr",
     "output_type": "stream",
     "text": [
      "[Parallel(n_jobs=-1)]: Using backend LokyBackend with 2 concurrent workers.\n",
      "[Parallel(n_jobs=-1)]: Done 240 out of 240 | elapsed:    2.2s finished\n"
     ]
    },
    {
     "name": "stdout",
     "output_type": "stream",
     "text": [
      "Successfully saved data to: /content/drive/My Drive/Summer 2025/Python Practice/audio/npz_files/esc50_mfcc_n64_fft1024_ovlp50_seg25ms.npz\\n\n",
      "Starting job for: esc50_mfcc_n64_fft2048_ovlp50_seg25ms.npz\n"
     ]
    },
    {
     "name": "stderr",
     "output_type": "stream",
     "text": [
      "[Parallel(n_jobs=-1)]: Using backend LokyBackend with 2 concurrent workers.\n",
      "[Parallel(n_jobs=-1)]: Done 240 out of 240 | elapsed:    2.2s finished\n"
     ]
    },
    {
     "name": "stdout",
     "output_type": "stream",
     "text": [
      "Successfully saved data to: /content/drive/My Drive/Summer 2025/Python Practice/audio/npz_files/esc50_mfcc_n64_fft2048_ovlp50_seg25ms.npz\\n\n",
      "Starting job for: esc50_mfcc_n128_fft512_ovlp50_seg25ms.npz\n"
     ]
    },
    {
     "name": "stderr",
     "output_type": "stream",
     "text": [
      "[Parallel(n_jobs=-1)]: Using backend LokyBackend with 2 concurrent workers.\n",
      "[Parallel(n_jobs=-1)]: Done 240 out of 240 | elapsed:    2.6s finished\n"
     ]
    },
    {
     "name": "stdout",
     "output_type": "stream",
     "text": [
      "Successfully saved data to: /content/drive/My Drive/Summer 2025/Python Practice/audio/npz_files/esc50_mfcc_n128_fft512_ovlp50_seg25ms.npz\\n\n",
      "Starting job for: esc50_mfcc_n128_fft1024_ovlp50_seg25ms.npz\n"
     ]
    },
    {
     "name": "stderr",
     "output_type": "stream",
     "text": [
      "[Parallel(n_jobs=-1)]: Using backend LokyBackend with 2 concurrent workers.\n",
      "[Parallel(n_jobs=-1)]: Done 240 out of 240 | elapsed:    2.2s finished\n"
     ]
    },
    {
     "name": "stdout",
     "output_type": "stream",
     "text": [
      "Successfully saved data to: /content/drive/My Drive/Summer 2025/Python Practice/audio/npz_files/esc50_mfcc_n128_fft1024_ovlp50_seg25ms.npz\\n\n",
      "Starting job for: esc50_mfcc_n128_fft2048_ovlp50_seg25ms.npz\n"
     ]
    },
    {
     "name": "stderr",
     "output_type": "stream",
     "text": [
      "[Parallel(n_jobs=-1)]: Using backend LokyBackend with 2 concurrent workers.\n",
      "[Parallel(n_jobs=-1)]: Done 240 out of 240 | elapsed:    2.1s finished\n"
     ]
    },
    {
     "name": "stdout",
     "output_type": "stream",
     "text": [
      "Successfully saved data to: /content/drive/My Drive/Summer 2025/Python Practice/audio/npz_files/esc50_mfcc_n128_fft2048_ovlp50_seg25ms.npz\\n\n",
      "Starting job for: esc50_mfcc_n32_fft512_ovlp50_seg50ms.npz\n"
     ]
    },
    {
     "name": "stderr",
     "output_type": "stream",
     "text": [
      "[Parallel(n_jobs=-1)]: Using backend LokyBackend with 2 concurrent workers.\n",
      "[Parallel(n_jobs=-1)]: Done 240 out of 240 | elapsed:    2.1s finished\n"
     ]
    },
    {
     "name": "stdout",
     "output_type": "stream",
     "text": [
      "Successfully saved data to: /content/drive/My Drive/Summer 2025/Python Practice/audio/npz_files/esc50_mfcc_n32_fft512_ovlp50_seg50ms.npz\\n\n",
      "Starting job for: esc50_mfcc_n32_fft1024_ovlp50_seg50ms.npz\n"
     ]
    },
    {
     "name": "stderr",
     "output_type": "stream",
     "text": [
      "[Parallel(n_jobs=-1)]: Using backend LokyBackend with 2 concurrent workers.\n",
      "[Parallel(n_jobs=-1)]: Done 240 out of 240 | elapsed:    3.0s finished\n"
     ]
    },
    {
     "name": "stdout",
     "output_type": "stream",
     "text": [
      "Successfully saved data to: /content/drive/My Drive/Summer 2025/Python Practice/audio/npz_files/esc50_mfcc_n32_fft1024_ovlp50_seg50ms.npz\\n\n",
      "Starting job for: esc50_mfcc_n32_fft2048_ovlp50_seg50ms.npz\n"
     ]
    },
    {
     "name": "stderr",
     "output_type": "stream",
     "text": [
      "[Parallel(n_jobs=-1)]: Using backend LokyBackend with 2 concurrent workers.\n",
      "[Parallel(n_jobs=-1)]: Done 240 out of 240 | elapsed:    2.8s finished\n",
      "[Parallel(n_jobs=-1)]: Using backend LokyBackend with 2 concurrent workers.\n"
     ]
    },
    {
     "name": "stdout",
     "output_type": "stream",
     "text": [
      "Successfully saved data to: /content/drive/My Drive/Summer 2025/Python Practice/audio/npz_files/esc50_mfcc_n32_fft2048_ovlp50_seg50ms.npz\\n\n",
      "Starting job for: esc50_mfcc_n64_fft512_ovlp50_seg50ms.npz\n"
     ]
    },
    {
     "name": "stderr",
     "output_type": "stream",
     "text": [
      "[Parallel(n_jobs=-1)]: Done 240 out of 240 | elapsed:    2.1s finished\n"
     ]
    },
    {
     "name": "stdout",
     "output_type": "stream",
     "text": [
      "Successfully saved data to: /content/drive/My Drive/Summer 2025/Python Practice/audio/npz_files/esc50_mfcc_n64_fft512_ovlp50_seg50ms.npz\\n\n",
      "Starting job for: esc50_mfcc_n64_fft1024_ovlp50_seg50ms.npz\n"
     ]
    },
    {
     "name": "stderr",
     "output_type": "stream",
     "text": [
      "[Parallel(n_jobs=-1)]: Using backend LokyBackend with 2 concurrent workers.\n",
      "[Parallel(n_jobs=-1)]: Done 240 out of 240 | elapsed:    2.0s finished\n"
     ]
    },
    {
     "name": "stdout",
     "output_type": "stream",
     "text": [
      "Successfully saved data to: /content/drive/My Drive/Summer 2025/Python Practice/audio/npz_files/esc50_mfcc_n64_fft1024_ovlp50_seg50ms.npz\\n\n",
      "Starting job for: esc50_mfcc_n64_fft2048_ovlp50_seg50ms.npz\n"
     ]
    },
    {
     "name": "stderr",
     "output_type": "stream",
     "text": [
      "[Parallel(n_jobs=-1)]: Using backend LokyBackend with 2 concurrent workers.\n",
      "[Parallel(n_jobs=-1)]: Done 240 out of 240 | elapsed:    1.9s finished\n"
     ]
    },
    {
     "name": "stdout",
     "output_type": "stream",
     "text": [
      "Successfully saved data to: /content/drive/My Drive/Summer 2025/Python Practice/audio/npz_files/esc50_mfcc_n64_fft2048_ovlp50_seg50ms.npz\\n\n",
      "Starting job for: esc50_mfcc_n128_fft512_ovlp50_seg50ms.npz\n"
     ]
    },
    {
     "name": "stderr",
     "output_type": "stream",
     "text": [
      "[Parallel(n_jobs=-1)]: Using backend LokyBackend with 2 concurrent workers.\n",
      "[Parallel(n_jobs=-1)]: Done 240 out of 240 | elapsed:    3.5s finished\n"
     ]
    },
    {
     "name": "stdout",
     "output_type": "stream",
     "text": [
      "Successfully saved data to: /content/drive/My Drive/Summer 2025/Python Practice/audio/npz_files/esc50_mfcc_n128_fft512_ovlp50_seg50ms.npz\\n\n",
      "Starting job for: esc50_mfcc_n128_fft1024_ovlp50_seg50ms.npz\n"
     ]
    },
    {
     "name": "stderr",
     "output_type": "stream",
     "text": [
      "[Parallel(n_jobs=-1)]: Using backend LokyBackend with 2 concurrent workers.\n",
      "[Parallel(n_jobs=-1)]: Done 240 out of 240 | elapsed:    2.2s finished\n"
     ]
    },
    {
     "name": "stdout",
     "output_type": "stream",
     "text": [
      "Successfully saved data to: /content/drive/My Drive/Summer 2025/Python Practice/audio/npz_files/esc50_mfcc_n128_fft1024_ovlp50_seg50ms.npz\\n\n",
      "Starting job for: esc50_mfcc_n128_fft2048_ovlp50_seg50ms.npz\n"
     ]
    },
    {
     "name": "stderr",
     "output_type": "stream",
     "text": [
      "[Parallel(n_jobs=-1)]: Using backend LokyBackend with 2 concurrent workers.\n",
      "[Parallel(n_jobs=-1)]: Done 240 out of 240 | elapsed:    2.1s finished\n"
     ]
    },
    {
     "name": "stdout",
     "output_type": "stream",
     "text": [
      "Successfully saved data to: /content/drive/My Drive/Summer 2025/Python Practice/audio/npz_files/esc50_mfcc_n128_fft2048_ovlp50_seg50ms.npz\\n\n",
      "Starting job for: esc50_mfcc_n32_fft512_ovlp50_seg100ms.npz\n"
     ]
    },
    {
     "name": "stderr",
     "output_type": "stream",
     "text": [
      "[Parallel(n_jobs=-1)]: Using backend LokyBackend with 2 concurrent workers.\n",
      "[Parallel(n_jobs=-1)]: Done 240 out of 240 | elapsed:    2.3s finished\n"
     ]
    },
    {
     "name": "stdout",
     "output_type": "stream",
     "text": [
      "Successfully saved data to: /content/drive/My Drive/Summer 2025/Python Practice/audio/npz_files/esc50_mfcc_n32_fft512_ovlp50_seg100ms.npz\\n\n",
      "Starting job for: esc50_mfcc_n32_fft1024_ovlp50_seg100ms.npz\n"
     ]
    },
    {
     "name": "stderr",
     "output_type": "stream",
     "text": [
      "[Parallel(n_jobs=-1)]: Using backend LokyBackend with 2 concurrent workers.\n",
      "[Parallel(n_jobs=-1)]: Done 240 out of 240 | elapsed:    3.4s finished\n"
     ]
    },
    {
     "name": "stdout",
     "output_type": "stream",
     "text": [
      "Successfully saved data to: /content/drive/My Drive/Summer 2025/Python Practice/audio/npz_files/esc50_mfcc_n32_fft1024_ovlp50_seg100ms.npz\\n\n",
      "Starting job for: esc50_mfcc_n32_fft2048_ovlp50_seg100ms.npz\n"
     ]
    },
    {
     "name": "stderr",
     "output_type": "stream",
     "text": [
      "[Parallel(n_jobs=-1)]: Using backend LokyBackend with 2 concurrent workers.\n",
      "[Parallel(n_jobs=-1)]: Done 240 out of 240 | elapsed:    2.0s finished\n"
     ]
    },
    {
     "name": "stdout",
     "output_type": "stream",
     "text": [
      "Successfully saved data to: /content/drive/My Drive/Summer 2025/Python Practice/audio/npz_files/esc50_mfcc_n32_fft2048_ovlp50_seg100ms.npz\\n\n",
      "Starting job for: esc50_mfcc_n64_fft512_ovlp50_seg100ms.npz\n"
     ]
    },
    {
     "name": "stderr",
     "output_type": "stream",
     "text": [
      "[Parallel(n_jobs=-1)]: Using backend LokyBackend with 2 concurrent workers.\n",
      "[Parallel(n_jobs=-1)]: Done 240 out of 240 | elapsed:    2.0s finished\n"
     ]
    },
    {
     "name": "stdout",
     "output_type": "stream",
     "text": [
      "Successfully saved data to: /content/drive/My Drive/Summer 2025/Python Practice/audio/npz_files/esc50_mfcc_n64_fft512_ovlp50_seg100ms.npz\\n\n",
      "Starting job for: esc50_mfcc_n64_fft1024_ovlp50_seg100ms.npz\n"
     ]
    },
    {
     "name": "stderr",
     "output_type": "stream",
     "text": [
      "[Parallel(n_jobs=-1)]: Using backend LokyBackend with 2 concurrent workers.\n",
      "[Parallel(n_jobs=-1)]: Done 240 out of 240 | elapsed:    2.0s finished\n"
     ]
    },
    {
     "name": "stdout",
     "output_type": "stream",
     "text": [
      "Successfully saved data to: /content/drive/My Drive/Summer 2025/Python Practice/audio/npz_files/esc50_mfcc_n64_fft1024_ovlp50_seg100ms.npz\\n\n",
      "Starting job for: esc50_mfcc_n64_fft2048_ovlp50_seg100ms.npz\n"
     ]
    },
    {
     "name": "stderr",
     "output_type": "stream",
     "text": [
      "[Parallel(n_jobs=-1)]: Using backend LokyBackend with 2 concurrent workers.\n",
      "[Parallel(n_jobs=-1)]: Done 240 out of 240 | elapsed:    2.7s finished\n"
     ]
    },
    {
     "name": "stdout",
     "output_type": "stream",
     "text": [
      "Successfully saved data to: /content/drive/My Drive/Summer 2025/Python Practice/audio/npz_files/esc50_mfcc_n64_fft2048_ovlp50_seg100ms.npz\\n\n",
      "Starting job for: esc50_mfcc_n128_fft512_ovlp50_seg100ms.npz\n"
     ]
    },
    {
     "name": "stderr",
     "output_type": "stream",
     "text": [
      "[Parallel(n_jobs=-1)]: Using backend LokyBackend with 2 concurrent workers.\n",
      "[Parallel(n_jobs=-1)]: Done 240 out of 240 | elapsed:    3.1s finished\n"
     ]
    },
    {
     "name": "stdout",
     "output_type": "stream",
     "text": [
      "Successfully saved data to: /content/drive/My Drive/Summer 2025/Python Practice/audio/npz_files/esc50_mfcc_n128_fft512_ovlp50_seg100ms.npz\\n\n",
      "Starting job for: esc50_mfcc_n128_fft1024_ovlp50_seg100ms.npz\n"
     ]
    },
    {
     "name": "stderr",
     "output_type": "stream",
     "text": [
      "[Parallel(n_jobs=-1)]: Using backend LokyBackend with 2 concurrent workers.\n",
      "[Parallel(n_jobs=-1)]: Done 240 out of 240 | elapsed:    1.9s finished\n"
     ]
    },
    {
     "name": "stdout",
     "output_type": "stream",
     "text": [
      "Successfully saved data to: /content/drive/My Drive/Summer 2025/Python Practice/audio/npz_files/esc50_mfcc_n128_fft1024_ovlp50_seg100ms.npz\\n\n",
      "Starting job for: esc50_mfcc_n128_fft2048_ovlp50_seg100ms.npz\n"
     ]
    },
    {
     "name": "stderr",
     "output_type": "stream",
     "text": [
      "[Parallel(n_jobs=-1)]: Using backend LokyBackend with 2 concurrent workers.\n",
      "[Parallel(n_jobs=-1)]: Done 240 out of 240 | elapsed:    1.9s finished\n"
     ]
    },
    {
     "name": "stdout",
     "output_type": "stream",
     "text": [
      "Successfully saved data to: /content/drive/My Drive/Summer 2025/Python Practice/audio/npz_files/esc50_mfcc_n128_fft2048_ovlp50_seg100ms.npz\\n\n",
      "Starting job for: esc50_mfcc_n32_fft512_ovlp50_seg200ms.npz\n"
     ]
    },
    {
     "name": "stderr",
     "output_type": "stream",
     "text": [
      "[Parallel(n_jobs=-1)]: Using backend LokyBackend with 2 concurrent workers.\n",
      "[Parallel(n_jobs=-1)]: Done 240 out of 240 | elapsed:    3.1s finished\n"
     ]
    },
    {
     "name": "stdout",
     "output_type": "stream",
     "text": [
      "Successfully saved data to: /content/drive/My Drive/Summer 2025/Python Practice/audio/npz_files/esc50_mfcc_n32_fft512_ovlp50_seg200ms.npz\\n\n",
      "Starting job for: esc50_mfcc_n32_fft1024_ovlp50_seg200ms.npz\n"
     ]
    },
    {
     "name": "stderr",
     "output_type": "stream",
     "text": [
      "[Parallel(n_jobs=-1)]: Using backend LokyBackend with 2 concurrent workers.\n",
      "[Parallel(n_jobs=-1)]: Done 240 out of 240 | elapsed:    2.1s finished\n"
     ]
    },
    {
     "name": "stdout",
     "output_type": "stream",
     "text": [
      "Successfully saved data to: /content/drive/My Drive/Summer 2025/Python Practice/audio/npz_files/esc50_mfcc_n32_fft1024_ovlp50_seg200ms.npz\\n\n",
      "Starting job for: esc50_mfcc_n32_fft2048_ovlp50_seg200ms.npz\n"
     ]
    },
    {
     "name": "stderr",
     "output_type": "stream",
     "text": [
      "[Parallel(n_jobs=-1)]: Using backend LokyBackend with 2 concurrent workers.\n",
      "[Parallel(n_jobs=-1)]: Done 240 out of 240 | elapsed:    1.8s finished\n",
      "[Parallel(n_jobs=-1)]: Using backend LokyBackend with 2 concurrent workers.\n"
     ]
    },
    {
     "name": "stdout",
     "output_type": "stream",
     "text": [
      "Successfully saved data to: /content/drive/My Drive/Summer 2025/Python Practice/audio/npz_files/esc50_mfcc_n32_fft2048_ovlp50_seg200ms.npz\\n\n",
      "Starting job for: esc50_mfcc_n64_fft512_ovlp50_seg200ms.npz\n"
     ]
    },
    {
     "name": "stderr",
     "output_type": "stream",
     "text": [
      "[Parallel(n_jobs=-1)]: Done 240 out of 240 | elapsed:    1.9s finished\n"
     ]
    },
    {
     "name": "stdout",
     "output_type": "stream",
     "text": [
      "Successfully saved data to: /content/drive/My Drive/Summer 2025/Python Practice/audio/npz_files/esc50_mfcc_n64_fft512_ovlp50_seg200ms.npz\\n\n",
      "Starting job for: esc50_mfcc_n64_fft1024_ovlp50_seg200ms.npz\n"
     ]
    },
    {
     "name": "stderr",
     "output_type": "stream",
     "text": [
      "[Parallel(n_jobs=-1)]: Using backend LokyBackend with 2 concurrent workers.\n",
      "[Parallel(n_jobs=-1)]: Done 240 out of 240 | elapsed:    1.8s finished\n"
     ]
    },
    {
     "name": "stdout",
     "output_type": "stream",
     "text": [
      "Successfully saved data to: /content/drive/My Drive/Summer 2025/Python Practice/audio/npz_files/esc50_mfcc_n64_fft1024_ovlp50_seg200ms.npz\\n\n",
      "Starting job for: esc50_mfcc_n64_fft2048_ovlp50_seg200ms.npz\n"
     ]
    },
    {
     "name": "stderr",
     "output_type": "stream",
     "text": [
      "[Parallel(n_jobs=-1)]: Using backend LokyBackend with 2 concurrent workers.\n",
      "[Parallel(n_jobs=-1)]: Done 240 out of 240 | elapsed:    2.6s finished\n"
     ]
    },
    {
     "name": "stdout",
     "output_type": "stream",
     "text": [
      "Successfully saved data to: /content/drive/My Drive/Summer 2025/Python Practice/audio/npz_files/esc50_mfcc_n64_fft2048_ovlp50_seg200ms.npz\\n\n",
      "Starting job for: esc50_mfcc_n128_fft512_ovlp50_seg200ms.npz\n"
     ]
    },
    {
     "name": "stderr",
     "output_type": "stream",
     "text": [
      "[Parallel(n_jobs=-1)]: Using backend LokyBackend with 2 concurrent workers.\n",
      "[Parallel(n_jobs=-1)]: Done 240 out of 240 | elapsed:    2.9s finished\n"
     ]
    },
    {
     "name": "stdout",
     "output_type": "stream",
     "text": [
      "Successfully saved data to: /content/drive/My Drive/Summer 2025/Python Practice/audio/npz_files/esc50_mfcc_n128_fft512_ovlp50_seg200ms.npz\\n\n",
      "Starting job for: esc50_mfcc_n128_fft1024_ovlp50_seg200ms.npz\n"
     ]
    },
    {
     "name": "stderr",
     "output_type": "stream",
     "text": [
      "[Parallel(n_jobs=-1)]: Using backend LokyBackend with 2 concurrent workers.\n",
      "[Parallel(n_jobs=-1)]: Done 240 out of 240 | elapsed:    1.8s finished\n"
     ]
    },
    {
     "name": "stdout",
     "output_type": "stream",
     "text": [
      "Successfully saved data to: /content/drive/My Drive/Summer 2025/Python Practice/audio/npz_files/esc50_mfcc_n128_fft1024_ovlp50_seg200ms.npz\\n\n",
      "Starting job for: esc50_mfcc_n128_fft2048_ovlp50_seg200ms.npz\n"
     ]
    },
    {
     "name": "stderr",
     "output_type": "stream",
     "text": [
      "[Parallel(n_jobs=-1)]: Using backend LokyBackend with 2 concurrent workers.\n",
      "[Parallel(n_jobs=-1)]: Done 240 out of 240 | elapsed:    1.9s finished\n"
     ]
    },
    {
     "name": "stdout",
     "output_type": "stream",
     "text": [
      "Successfully saved data to: /content/drive/My Drive/Summer 2025/Python Practice/audio/npz_files/esc50_mfcc_n128_fft2048_ovlp50_seg200ms.npz\\n\n",
      "Starting job for: esc50_mfcc_n32_fft512_ovlp50_seg500ms.npz\n"
     ]
    },
    {
     "name": "stderr",
     "output_type": "stream",
     "text": [
      "[Parallel(n_jobs=-1)]: Using backend LokyBackend with 2 concurrent workers.\n",
      "[Parallel(n_jobs=-1)]: Done 240 out of 240 | elapsed:    2.5s finished\n"
     ]
    },
    {
     "name": "stdout",
     "output_type": "stream",
     "text": [
      "Successfully saved data to: /content/drive/My Drive/Summer 2025/Python Practice/audio/npz_files/esc50_mfcc_n32_fft512_ovlp50_seg500ms.npz\\n\n",
      "Starting job for: esc50_mfcc_n32_fft1024_ovlp50_seg500ms.npz\n"
     ]
    },
    {
     "name": "stderr",
     "output_type": "stream",
     "text": [
      "[Parallel(n_jobs=-1)]: Using backend LokyBackend with 2 concurrent workers.\n",
      "[Parallel(n_jobs=-1)]: Done 240 out of 240 | elapsed:    2.6s finished\n"
     ]
    },
    {
     "name": "stdout",
     "output_type": "stream",
     "text": [
      "Successfully saved data to: /content/drive/My Drive/Summer 2025/Python Practice/audio/npz_files/esc50_mfcc_n32_fft1024_ovlp50_seg500ms.npz\\n\n",
      "Starting job for: esc50_mfcc_n32_fft2048_ovlp50_seg500ms.npz\n"
     ]
    },
    {
     "name": "stderr",
     "output_type": "stream",
     "text": [
      "[Parallel(n_jobs=-1)]: Using backend LokyBackend with 2 concurrent workers.\n",
      "[Parallel(n_jobs=-1)]: Done 240 out of 240 | elapsed:    1.7s finished\n"
     ]
    },
    {
     "name": "stdout",
     "output_type": "stream",
     "text": [
      "Successfully saved data to: /content/drive/My Drive/Summer 2025/Python Practice/audio/npz_files/esc50_mfcc_n32_fft2048_ovlp50_seg500ms.npz\\n\n",
      "Starting job for: esc50_mfcc_n64_fft512_ovlp50_seg500ms.npz\n"
     ]
    },
    {
     "name": "stderr",
     "output_type": "stream",
     "text": [
      "[Parallel(n_jobs=-1)]: Using backend LokyBackend with 2 concurrent workers.\n",
      "[Parallel(n_jobs=-1)]: Done 240 out of 240 | elapsed:    1.8s finished\n"
     ]
    },
    {
     "name": "stdout",
     "output_type": "stream",
     "text": [
      "Successfully saved data to: /content/drive/My Drive/Summer 2025/Python Practice/audio/npz_files/esc50_mfcc_n64_fft512_ovlp50_seg500ms.npz\\n\n",
      "Starting job for: esc50_mfcc_n64_fft1024_ovlp50_seg500ms.npz\n"
     ]
    },
    {
     "name": "stderr",
     "output_type": "stream",
     "text": [
      "[Parallel(n_jobs=-1)]: Using backend LokyBackend with 2 concurrent workers.\n",
      "[Parallel(n_jobs=-1)]: Done 240 out of 240 | elapsed:    1.7s finished\n"
     ]
    },
    {
     "name": "stdout",
     "output_type": "stream",
     "text": [
      "Successfully saved data to: /content/drive/My Drive/Summer 2025/Python Practice/audio/npz_files/esc50_mfcc_n64_fft1024_ovlp50_seg500ms.npz\\n\n",
      "Starting job for: esc50_mfcc_n64_fft2048_ovlp50_seg500ms.npz\n"
     ]
    },
    {
     "name": "stderr",
     "output_type": "stream",
     "text": [
      "[Parallel(n_jobs=-1)]: Using backend LokyBackend with 2 concurrent workers.\n",
      "[Parallel(n_jobs=-1)]: Done 240 out of 240 | elapsed:    1.9s finished\n"
     ]
    },
    {
     "name": "stdout",
     "output_type": "stream",
     "text": [
      "Successfully saved data to: /content/drive/My Drive/Summer 2025/Python Practice/audio/npz_files/esc50_mfcc_n64_fft2048_ovlp50_seg500ms.npz\\n\n",
      "Starting job for: esc50_mfcc_n128_fft512_ovlp50_seg500ms.npz\n"
     ]
    },
    {
     "name": "stderr",
     "output_type": "stream",
     "text": [
      "[Parallel(n_jobs=-1)]: Using backend LokyBackend with 2 concurrent workers.\n",
      "[Parallel(n_jobs=-1)]: Done 240 out of 240 | elapsed:    3.4s finished\n"
     ]
    },
    {
     "name": "stdout",
     "output_type": "stream",
     "text": [
      "Successfully saved data to: /content/drive/My Drive/Summer 2025/Python Practice/audio/npz_files/esc50_mfcc_n128_fft512_ovlp50_seg500ms.npz\\n\n",
      "Starting job for: esc50_mfcc_n128_fft1024_ovlp50_seg500ms.npz\n"
     ]
    },
    {
     "name": "stderr",
     "output_type": "stream",
     "text": [
      "[Parallel(n_jobs=-1)]: Using backend LokyBackend with 2 concurrent workers.\n",
      "[Parallel(n_jobs=-1)]: Done 240 out of 240 | elapsed:    2.2s finished\n"
     ]
    },
    {
     "name": "stdout",
     "output_type": "stream",
     "text": [
      "Successfully saved data to: /content/drive/My Drive/Summer 2025/Python Practice/audio/npz_files/esc50_mfcc_n128_fft1024_ovlp50_seg500ms.npz\\n\n",
      "Starting job for: esc50_mfcc_n128_fft2048_ovlp50_seg500ms.npz\n"
     ]
    },
    {
     "name": "stderr",
     "output_type": "stream",
     "text": [
      "[Parallel(n_jobs=-1)]: Using backend LokyBackend with 2 concurrent workers.\n",
      "[Parallel(n_jobs=-1)]: Done 240 out of 240 | elapsed:    5.7s finished\n"
     ]
    },
    {
     "name": "stdout",
     "output_type": "stream",
     "text": [
      "Successfully saved data to: /content/drive/My Drive/Summer 2025/Python Practice/audio/npz_files/esc50_mfcc_n128_fft2048_ovlp50_seg500ms.npz\\n\n",
      "Starting job for: esc50_mfcc_n32_fft512_ovlp50_seg1000ms.npz\n"
     ]
    },
    {
     "name": "stderr",
     "output_type": "stream",
     "text": [
      "[Parallel(n_jobs=-1)]: Using backend LokyBackend with 2 concurrent workers.\n",
      "[Parallel(n_jobs=-1)]: Done 240 out of 240 | elapsed:    2.6s finished\n"
     ]
    },
    {
     "name": "stdout",
     "output_type": "stream",
     "text": [
      "Successfully saved data to: /content/drive/My Drive/Summer 2025/Python Practice/audio/npz_files/esc50_mfcc_n32_fft512_ovlp50_seg1000ms.npz\\n\n",
      "Starting job for: esc50_mfcc_n32_fft1024_ovlp50_seg1000ms.npz\n"
     ]
    },
    {
     "name": "stderr",
     "output_type": "stream",
     "text": [
      "[Parallel(n_jobs=-1)]: Using backend LokyBackend with 2 concurrent workers.\n",
      "[Parallel(n_jobs=-1)]: Done 240 out of 240 | elapsed:    1.7s finished\n"
     ]
    },
    {
     "name": "stdout",
     "output_type": "stream",
     "text": [
      "Successfully saved data to: /content/drive/My Drive/Summer 2025/Python Practice/audio/npz_files/esc50_mfcc_n32_fft1024_ovlp50_seg1000ms.npz\\n\n",
      "Starting job for: esc50_mfcc_n32_fft2048_ovlp50_seg1000ms.npz\n"
     ]
    },
    {
     "name": "stderr",
     "output_type": "stream",
     "text": [
      "[Parallel(n_jobs=-1)]: Using backend LokyBackend with 2 concurrent workers.\n",
      "[Parallel(n_jobs=-1)]: Done 240 out of 240 | elapsed:    1.7s finished\n",
      "[Parallel(n_jobs=-1)]: Using backend LokyBackend with 2 concurrent workers.\n"
     ]
    },
    {
     "name": "stdout",
     "output_type": "stream",
     "text": [
      "Successfully saved data to: /content/drive/My Drive/Summer 2025/Python Practice/audio/npz_files/esc50_mfcc_n32_fft2048_ovlp50_seg1000ms.npz\\n\n",
      "Starting job for: esc50_mfcc_n64_fft512_ovlp50_seg1000ms.npz\n"
     ]
    },
    {
     "name": "stderr",
     "output_type": "stream",
     "text": [
      "[Parallel(n_jobs=-1)]: Done 240 out of 240 | elapsed:    1.7s finished\n"
     ]
    },
    {
     "name": "stdout",
     "output_type": "stream",
     "text": [
      "Successfully saved data to: /content/drive/My Drive/Summer 2025/Python Practice/audio/npz_files/esc50_mfcc_n64_fft512_ovlp50_seg1000ms.npz\\n\n",
      "Starting job for: esc50_mfcc_n64_fft1024_ovlp50_seg1000ms.npz\n"
     ]
    },
    {
     "name": "stderr",
     "output_type": "stream",
     "text": [
      "[Parallel(n_jobs=-1)]: Using backend LokyBackend with 2 concurrent workers.\n",
      "[Parallel(n_jobs=-1)]: Done 240 out of 240 | elapsed:    1.7s finished\n"
     ]
    },
    {
     "name": "stdout",
     "output_type": "stream",
     "text": [
      "Successfully saved data to: /content/drive/My Drive/Summer 2025/Python Practice/audio/npz_files/esc50_mfcc_n64_fft1024_ovlp50_seg1000ms.npz\\n\n",
      "Starting job for: esc50_mfcc_n64_fft2048_ovlp50_seg1000ms.npz\n"
     ]
    },
    {
     "name": "stderr",
     "output_type": "stream",
     "text": [
      "[Parallel(n_jobs=-1)]: Using backend LokyBackend with 2 concurrent workers.\n",
      "[Parallel(n_jobs=-1)]: Done 240 out of 240 | elapsed:    3.0s finished\n"
     ]
    },
    {
     "name": "stdout",
     "output_type": "stream",
     "text": [
      "Successfully saved data to: /content/drive/My Drive/Summer 2025/Python Practice/audio/npz_files/esc50_mfcc_n64_fft2048_ovlp50_seg1000ms.npz\\n\n",
      "Starting job for: esc50_mfcc_n128_fft512_ovlp50_seg1000ms.npz\n"
     ]
    },
    {
     "name": "stderr",
     "output_type": "stream",
     "text": [
      "[Parallel(n_jobs=-1)]: Using backend LokyBackend with 2 concurrent workers.\n",
      "[Parallel(n_jobs=-1)]: Done 236 tasks      | elapsed:    2.1s\n",
      "[Parallel(n_jobs=-1)]: Done 240 out of 240 | elapsed:    2.2s finished\n"
     ]
    },
    {
     "name": "stdout",
     "output_type": "stream",
     "text": [
      "Successfully saved data to: /content/drive/My Drive/Summer 2025/Python Practice/audio/npz_files/esc50_mfcc_n128_fft512_ovlp50_seg1000ms.npz\\n\n",
      "Starting job for: esc50_mfcc_n128_fft1024_ovlp50_seg1000ms.npz\n"
     ]
    },
    {
     "name": "stderr",
     "output_type": "stream",
     "text": [
      "[Parallel(n_jobs=-1)]: Using backend LokyBackend with 2 concurrent workers.\n",
      "[Parallel(n_jobs=-1)]: Done 240 out of 240 | elapsed:    1.7s finished\n"
     ]
    },
    {
     "name": "stdout",
     "output_type": "stream",
     "text": [
      "Successfully saved data to: /content/drive/My Drive/Summer 2025/Python Practice/audio/npz_files/esc50_mfcc_n128_fft1024_ovlp50_seg1000ms.npz\\n\n",
      "Starting job for: esc50_mfcc_n128_fft2048_ovlp50_seg1000ms.npz\n"
     ]
    },
    {
     "name": "stderr",
     "output_type": "stream",
     "text": [
      "[Parallel(n_jobs=-1)]: Using backend LokyBackend with 2 concurrent workers.\n",
      "[Parallel(n_jobs=-1)]: Done 240 out of 240 | elapsed:    1.8s finished\n"
     ]
    },
    {
     "name": "stdout",
     "output_type": "stream",
     "text": [
      "Successfully saved data to: /content/drive/My Drive/Summer 2025/Python Practice/audio/npz_files/esc50_mfcc_n128_fft2048_ovlp50_seg1000ms.npz\\n\n",
      "Starting job for: esc50_mfcc_n32_fft512_ovlp50_seg2000ms.npz\n"
     ]
    },
    {
     "name": "stderr",
     "output_type": "stream",
     "text": [
      "[Parallel(n_jobs=-1)]: Using backend LokyBackend with 2 concurrent workers.\n",
      "[Parallel(n_jobs=-1)]: Done 240 out of 240 | elapsed:    2.6s finished\n"
     ]
    },
    {
     "name": "stdout",
     "output_type": "stream",
     "text": [
      "Successfully saved data to: /content/drive/My Drive/Summer 2025/Python Practice/audio/npz_files/esc50_mfcc_n32_fft512_ovlp50_seg2000ms.npz\\n\n",
      "Starting job for: esc50_mfcc_n32_fft1024_ovlp50_seg2000ms.npz\n"
     ]
    },
    {
     "name": "stderr",
     "output_type": "stream",
     "text": [
      "[Parallel(n_jobs=-1)]: Using backend LokyBackend with 2 concurrent workers.\n",
      "[Parallel(n_jobs=-1)]: Done 240 out of 240 | elapsed:    2.3s finished\n"
     ]
    },
    {
     "name": "stdout",
     "output_type": "stream",
     "text": [
      "Successfully saved data to: /content/drive/My Drive/Summer 2025/Python Practice/audio/npz_files/esc50_mfcc_n32_fft1024_ovlp50_seg2000ms.npz\\n\n",
      "Starting job for: esc50_mfcc_n32_fft2048_ovlp50_seg2000ms.npz\n"
     ]
    },
    {
     "name": "stderr",
     "output_type": "stream",
     "text": [
      "[Parallel(n_jobs=-1)]: Using backend LokyBackend with 2 concurrent workers.\n",
      "[Parallel(n_jobs=-1)]: Done 240 out of 240 | elapsed:    1.7s finished\n",
      "[Parallel(n_jobs=-1)]: Using backend LokyBackend with 2 concurrent workers.\n"
     ]
    },
    {
     "name": "stdout",
     "output_type": "stream",
     "text": [
      "Successfully saved data to: /content/drive/My Drive/Summer 2025/Python Practice/audio/npz_files/esc50_mfcc_n32_fft2048_ovlp50_seg2000ms.npz\\n\n",
      "Starting job for: esc50_mfcc_n64_fft512_ovlp50_seg2000ms.npz\n"
     ]
    },
    {
     "name": "stderr",
     "output_type": "stream",
     "text": [
      "[Parallel(n_jobs=-1)]: Done 240 out of 240 | elapsed:    1.8s finished\n"
     ]
    },
    {
     "name": "stdout",
     "output_type": "stream",
     "text": [
      "Successfully saved data to: /content/drive/My Drive/Summer 2025/Python Practice/audio/npz_files/esc50_mfcc_n64_fft512_ovlp50_seg2000ms.npz\\n\n",
      "Starting job for: esc50_mfcc_n64_fft1024_ovlp50_seg2000ms.npz\n"
     ]
    },
    {
     "name": "stderr",
     "output_type": "stream",
     "text": [
      "[Parallel(n_jobs=-1)]: Using backend LokyBackend with 2 concurrent workers.\n",
      "[Parallel(n_jobs=-1)]: Done 240 out of 240 | elapsed:    1.7s finished\n"
     ]
    },
    {
     "name": "stdout",
     "output_type": "stream",
     "text": [
      "Successfully saved data to: /content/drive/My Drive/Summer 2025/Python Practice/audio/npz_files/esc50_mfcc_n64_fft1024_ovlp50_seg2000ms.npz\\n\n",
      "Starting job for: esc50_mfcc_n64_fft2048_ovlp50_seg2000ms.npz\n"
     ]
    },
    {
     "name": "stderr",
     "output_type": "stream",
     "text": [
      "[Parallel(n_jobs=-1)]: Using backend LokyBackend with 2 concurrent workers.\n",
      "[Parallel(n_jobs=-1)]: Done 240 out of 240 | elapsed:    1.8s finished\n"
     ]
    },
    {
     "name": "stdout",
     "output_type": "stream",
     "text": [
      "Successfully saved data to: /content/drive/My Drive/Summer 2025/Python Practice/audio/npz_files/esc50_mfcc_n64_fft2048_ovlp50_seg2000ms.npz\\n\n",
      "Starting job for: esc50_mfcc_n128_fft512_ovlp50_seg2000ms.npz\n"
     ]
    },
    {
     "name": "stderr",
     "output_type": "stream",
     "text": [
      "[Parallel(n_jobs=-1)]: Using backend LokyBackend with 2 concurrent workers.\n",
      "[Parallel(n_jobs=-1)]: Done 240 out of 240 | elapsed:    3.2s finished\n"
     ]
    },
    {
     "name": "stdout",
     "output_type": "stream",
     "text": [
      "Successfully saved data to: /content/drive/My Drive/Summer 2025/Python Practice/audio/npz_files/esc50_mfcc_n128_fft512_ovlp50_seg2000ms.npz\\n\n",
      "Starting job for: esc50_mfcc_n128_fft1024_ovlp50_seg2000ms.npz\n"
     ]
    },
    {
     "name": "stderr",
     "output_type": "stream",
     "text": [
      "[Parallel(n_jobs=-1)]: Using backend LokyBackend with 2 concurrent workers.\n",
      "[Parallel(n_jobs=-1)]: Done 240 out of 240 | elapsed:    1.7s finished\n"
     ]
    },
    {
     "name": "stdout",
     "output_type": "stream",
     "text": [
      "Successfully saved data to: /content/drive/My Drive/Summer 2025/Python Practice/audio/npz_files/esc50_mfcc_n128_fft1024_ovlp50_seg2000ms.npz\\n\n",
      "Starting job for: esc50_mfcc_n128_fft2048_ovlp50_seg2000ms.npz\n"
     ]
    },
    {
     "name": "stderr",
     "output_type": "stream",
     "text": [
      "[Parallel(n_jobs=-1)]: Using backend LokyBackend with 2 concurrent workers.\n",
      "[Parallel(n_jobs=-1)]: Done 240 out of 240 | elapsed:    1.7s finished\n"
     ]
    },
    {
     "name": "stdout",
     "output_type": "stream",
     "text": [
      "Successfully saved data to: /content/drive/My Drive/Summer 2025/Python Practice/audio/npz_files/esc50_mfcc_n128_fft2048_ovlp50_seg2000ms.npz\\n\n",
      "Starting job for: esc50_mfcc_n32_fft512_ovlp50_seg5000ms.npz\n"
     ]
    },
    {
     "name": "stderr",
     "output_type": "stream",
     "text": [
      "[Parallel(n_jobs=-1)]: Using backend LokyBackend with 2 concurrent workers.\n",
      "[Parallel(n_jobs=-1)]: Done 240 out of 240 | elapsed:    1.8s finished\n"
     ]
    },
    {
     "name": "stdout",
     "output_type": "stream",
     "text": [
      "Successfully saved data to: /content/drive/My Drive/Summer 2025/Python Practice/audio/npz_files/esc50_mfcc_n32_fft512_ovlp50_seg5000ms.npz\\n\n",
      "Starting job for: esc50_mfcc_n32_fft1024_ovlp50_seg5000ms.npz\n"
     ]
    },
    {
     "name": "stderr",
     "output_type": "stream",
     "text": [
      "[Parallel(n_jobs=-1)]: Using backend LokyBackend with 2 concurrent workers.\n",
      "[Parallel(n_jobs=-1)]: Done 240 out of 240 | elapsed:    2.4s finished\n"
     ]
    },
    {
     "name": "stdout",
     "output_type": "stream",
     "text": [
      "Successfully saved data to: /content/drive/My Drive/Summer 2025/Python Practice/audio/npz_files/esc50_mfcc_n32_fft1024_ovlp50_seg5000ms.npz\\n\n",
      "Starting job for: esc50_mfcc_n32_fft2048_ovlp50_seg5000ms.npz\n"
     ]
    },
    {
     "name": "stderr",
     "output_type": "stream",
     "text": [
      "[Parallel(n_jobs=-1)]: Using backend LokyBackend with 2 concurrent workers.\n",
      "[Parallel(n_jobs=-1)]: Done 240 out of 240 | elapsed:    2.6s finished\n",
      "[Parallel(n_jobs=-1)]: Using backend LokyBackend with 2 concurrent workers.\n"
     ]
    },
    {
     "name": "stdout",
     "output_type": "stream",
     "text": [
      "Successfully saved data to: /content/drive/My Drive/Summer 2025/Python Practice/audio/npz_files/esc50_mfcc_n32_fft2048_ovlp50_seg5000ms.npz\\n\n",
      "Starting job for: esc50_mfcc_n64_fft512_ovlp50_seg5000ms.npz\n"
     ]
    },
    {
     "name": "stderr",
     "output_type": "stream",
     "text": [
      "[Parallel(n_jobs=-1)]: Done 240 out of 240 | elapsed:    1.7s finished\n"
     ]
    },
    {
     "name": "stdout",
     "output_type": "stream",
     "text": [
      "Successfully saved data to: /content/drive/My Drive/Summer 2025/Python Practice/audio/npz_files/esc50_mfcc_n64_fft512_ovlp50_seg5000ms.npz\\n\n",
      "Starting job for: esc50_mfcc_n64_fft1024_ovlp50_seg5000ms.npz\n"
     ]
    },
    {
     "name": "stderr",
     "output_type": "stream",
     "text": [
      "[Parallel(n_jobs=-1)]: Using backend LokyBackend with 2 concurrent workers.\n",
      "[Parallel(n_jobs=-1)]: Done 240 out of 240 | elapsed:    1.7s finished\n"
     ]
    },
    {
     "name": "stdout",
     "output_type": "stream",
     "text": [
      "Successfully saved data to: /content/drive/My Drive/Summer 2025/Python Practice/audio/npz_files/esc50_mfcc_n64_fft1024_ovlp50_seg5000ms.npz\\n\n",
      "Starting job for: esc50_mfcc_n64_fft2048_ovlp50_seg5000ms.npz\n"
     ]
    },
    {
     "name": "stderr",
     "output_type": "stream",
     "text": [
      "[Parallel(n_jobs=-1)]: Using backend LokyBackend with 2 concurrent workers.\n",
      "[Parallel(n_jobs=-1)]: Done 240 out of 240 | elapsed:    1.7s finished\n"
     ]
    },
    {
     "name": "stdout",
     "output_type": "stream",
     "text": [
      "Successfully saved data to: /content/drive/My Drive/Summer 2025/Python Practice/audio/npz_files/esc50_mfcc_n64_fft2048_ovlp50_seg5000ms.npz\\n\n",
      "Starting job for: esc50_mfcc_n128_fft512_ovlp50_seg5000ms.npz\n"
     ]
    },
    {
     "name": "stderr",
     "output_type": "stream",
     "text": [
      "[Parallel(n_jobs=-1)]: Using backend LokyBackend with 2 concurrent workers.\n",
      "[Parallel(n_jobs=-1)]: Done 240 out of 240 | elapsed:    2.1s finished\n"
     ]
    },
    {
     "name": "stdout",
     "output_type": "stream",
     "text": [
      "Successfully saved data to: /content/drive/My Drive/Summer 2025/Python Practice/audio/npz_files/esc50_mfcc_n128_fft512_ovlp50_seg5000ms.npz\\n\n",
      "Starting job for: esc50_mfcc_n128_fft1024_ovlp50_seg5000ms.npz\n"
     ]
    },
    {
     "name": "stderr",
     "output_type": "stream",
     "text": [
      "[Parallel(n_jobs=-1)]: Using backend LokyBackend with 2 concurrent workers.\n",
      "[Parallel(n_jobs=-1)]: Done 240 out of 240 | elapsed:    1.8s finished\n"
     ]
    },
    {
     "name": "stdout",
     "output_type": "stream",
     "text": [
      "Successfully saved data to: /content/drive/My Drive/Summer 2025/Python Practice/audio/npz_files/esc50_mfcc_n128_fft1024_ovlp50_seg5000ms.npz\\n\n",
      "Starting job for: esc50_mfcc_n128_fft2048_ovlp50_seg5000ms.npz\n"
     ]
    },
    {
     "name": "stderr",
     "output_type": "stream",
     "text": [
      "[Parallel(n_jobs=-1)]: Using backend LokyBackend with 2 concurrent workers.\n",
      "[Parallel(n_jobs=-1)]: Done 240 out of 240 | elapsed:    1.7s finished\n"
     ]
    },
    {
     "name": "stdout",
     "output_type": "stream",
     "text": [
      "Successfully saved data to: /content/drive/My Drive/Summer 2025/Python Practice/audio/npz_files/esc50_mfcc_n128_fft2048_ovlp50_seg5000ms.npz\\n\n",
      "--- All preprocessing jobs are complete! ---\n"
     ]
    }
   ],
   "source": [
    "#   --- Create MFCCs with different configurations (50% overlap) ---\n",
    "# Define the parameter ranges to test\n",
    "segment_durations = [5.0, 2.0, 1.0, 0.5, 0.2, 0.1, 0.05, 0.025]\n",
    "n_mfccs= [32, 64, 128]\n",
    "n_fft = [512, 1024, 2048]\n",
    "\n",
    "# Loop through each combination of parameters\n",
    "for seg_duration in segment_durations:\n",
    "  for mfcc in n_mfccs:\n",
    "    for fft in n_fft:\n",
    "        save_features_to_npz(df_balanced,\n",
    "                            num_mfcc=mfcc,\n",
    "                            n_fft=fft,\n",
    "                            overlap=0.5,\n",
    "                            segment_duration_s=seg_duration)\n",
    "\n",
    "print(\"--- All preprocessing jobs are complete! ---\")"
   ]
  },
  {
   "cell_type": "code",
   "execution_count": null,
   "metadata": {
    "colab": {
     "base_uri": "https://localhost:8080/"
    },
    "executionInfo": {
     "elapsed": 192388,
     "status": "ok",
     "timestamp": 1752280083387,
     "user": {
      "displayName": "Eric Rinkam",
      "userId": "05935881698423884674"
     },
     "user_tz": 300
    },
    "id": "jdo19iaVBPlf",
    "outputId": "ed13fb80-e7bf-46d8-f3f3-c99119688016"
   },
   "outputs": [
    {
     "name": "stdout",
     "output_type": "stream",
     "text": [
      "Starting job for: esc50_mfcc_n32_fft512_ovlp25_seg25ms.npz\n"
     ]
    },
    {
     "name": "stderr",
     "output_type": "stream",
     "text": [
      "[Parallel(n_jobs=-1)]: Using backend LokyBackend with 2 concurrent workers.\n",
      "[Parallel(n_jobs=-1)]: Done 240 out of 240 | elapsed:    2.0s finished\n"
     ]
    },
    {
     "name": "stdout",
     "output_type": "stream",
     "text": [
      "Successfully saved data to: /content/drive/My Drive/Summer 2025/Python Practice/audio/npz_files/esc50_mfcc_n32_fft512_ovlp25_seg25ms.npz\\n\n",
      "Starting job for: esc50_mfcc_n32_fft1024_ovlp25_seg25ms.npz\n"
     ]
    },
    {
     "name": "stderr",
     "output_type": "stream",
     "text": [
      "[Parallel(n_jobs=-1)]: Using backend LokyBackend with 2 concurrent workers.\n",
      "[Parallel(n_jobs=-1)]: Done 240 out of 240 | elapsed:    2.0s finished\n"
     ]
    },
    {
     "name": "stdout",
     "output_type": "stream",
     "text": [
      "Successfully saved data to: /content/drive/My Drive/Summer 2025/Python Practice/audio/npz_files/esc50_mfcc_n32_fft1024_ovlp25_seg25ms.npz\\n\n",
      "Starting job for: esc50_mfcc_n32_fft2048_ovlp25_seg25ms.npz\n"
     ]
    },
    {
     "name": "stderr",
     "output_type": "stream",
     "text": [
      "[Parallel(n_jobs=-1)]: Using backend LokyBackend with 2 concurrent workers.\n",
      "[Parallel(n_jobs=-1)]: Done 240 out of 240 | elapsed:    1.9s finished\n",
      "[Parallel(n_jobs=-1)]: Using backend LokyBackend with 2 concurrent workers.\n"
     ]
    },
    {
     "name": "stdout",
     "output_type": "stream",
     "text": [
      "Successfully saved data to: /content/drive/My Drive/Summer 2025/Python Practice/audio/npz_files/esc50_mfcc_n32_fft2048_ovlp25_seg25ms.npz\\n\n",
      "Starting job for: esc50_mfcc_n64_fft512_ovlp25_seg25ms.npz\n"
     ]
    },
    {
     "name": "stderr",
     "output_type": "stream",
     "text": [
      "[Parallel(n_jobs=-1)]: Done 240 out of 240 | elapsed:    3.6s finished\n"
     ]
    },
    {
     "name": "stdout",
     "output_type": "stream",
     "text": [
      "Successfully saved data to: /content/drive/My Drive/Summer 2025/Python Practice/audio/npz_files/esc50_mfcc_n64_fft512_ovlp25_seg25ms.npz\\n\n",
      "Starting job for: esc50_mfcc_n64_fft1024_ovlp25_seg25ms.npz\n"
     ]
    },
    {
     "name": "stderr",
     "output_type": "stream",
     "text": [
      "[Parallel(n_jobs=-1)]: Using backend LokyBackend with 2 concurrent workers.\n",
      "[Parallel(n_jobs=-1)]: Done 240 out of 240 | elapsed:    2.1s finished\n"
     ]
    },
    {
     "name": "stdout",
     "output_type": "stream",
     "text": [
      "Successfully saved data to: /content/drive/My Drive/Summer 2025/Python Practice/audio/npz_files/esc50_mfcc_n64_fft1024_ovlp25_seg25ms.npz\\n\n",
      "Starting job for: esc50_mfcc_n64_fft2048_ovlp25_seg25ms.npz\n"
     ]
    },
    {
     "name": "stderr",
     "output_type": "stream",
     "text": [
      "[Parallel(n_jobs=-1)]: Using backend LokyBackend with 2 concurrent workers.\n",
      "[Parallel(n_jobs=-1)]: Done 240 out of 240 | elapsed:    1.8s finished\n"
     ]
    },
    {
     "name": "stdout",
     "output_type": "stream",
     "text": [
      "Successfully saved data to: /content/drive/My Drive/Summer 2025/Python Practice/audio/npz_files/esc50_mfcc_n64_fft2048_ovlp25_seg25ms.npz\\n\n",
      "Starting job for: esc50_mfcc_n128_fft512_ovlp25_seg25ms.npz\n"
     ]
    },
    {
     "name": "stderr",
     "output_type": "stream",
     "text": [
      "[Parallel(n_jobs=-1)]: Using backend LokyBackend with 2 concurrent workers.\n",
      "[Parallel(n_jobs=-1)]: Done 240 out of 240 | elapsed:    2.1s finished\n"
     ]
    },
    {
     "name": "stdout",
     "output_type": "stream",
     "text": [
      "Successfully saved data to: /content/drive/My Drive/Summer 2025/Python Practice/audio/npz_files/esc50_mfcc_n128_fft512_ovlp25_seg25ms.npz\\n\n",
      "Starting job for: esc50_mfcc_n128_fft1024_ovlp25_seg25ms.npz\n"
     ]
    },
    {
     "name": "stderr",
     "output_type": "stream",
     "text": [
      "[Parallel(n_jobs=-1)]: Using backend LokyBackend with 2 concurrent workers.\n",
      "[Parallel(n_jobs=-1)]: Done 240 out of 240 | elapsed:    3.2s finished\n"
     ]
    },
    {
     "name": "stdout",
     "output_type": "stream",
     "text": [
      "Successfully saved data to: /content/drive/My Drive/Summer 2025/Python Practice/audio/npz_files/esc50_mfcc_n128_fft1024_ovlp25_seg25ms.npz\\n\n",
      "Starting job for: esc50_mfcc_n128_fft2048_ovlp25_seg25ms.npz\n"
     ]
    },
    {
     "name": "stderr",
     "output_type": "stream",
     "text": [
      "[Parallel(n_jobs=-1)]: Using backend LokyBackend with 2 concurrent workers.\n",
      "[Parallel(n_jobs=-1)]: Done 240 out of 240 | elapsed:    2.0s finished\n"
     ]
    },
    {
     "name": "stdout",
     "output_type": "stream",
     "text": [
      "Successfully saved data to: /content/drive/My Drive/Summer 2025/Python Practice/audio/npz_files/esc50_mfcc_n128_fft2048_ovlp25_seg25ms.npz\\n\n",
      "Starting job for: esc50_mfcc_n32_fft512_ovlp25_seg50ms.npz\n"
     ]
    },
    {
     "name": "stderr",
     "output_type": "stream",
     "text": [
      "[Parallel(n_jobs=-1)]: Using backend LokyBackend with 2 concurrent workers.\n",
      "[Parallel(n_jobs=-1)]: Done 240 out of 240 | elapsed:    1.8s finished\n"
     ]
    },
    {
     "name": "stdout",
     "output_type": "stream",
     "text": [
      "Successfully saved data to: /content/drive/My Drive/Summer 2025/Python Practice/audio/npz_files/esc50_mfcc_n32_fft512_ovlp25_seg50ms.npz\\n\n",
      "Starting job for: esc50_mfcc_n32_fft1024_ovlp25_seg50ms.npz\n"
     ]
    },
    {
     "name": "stderr",
     "output_type": "stream",
     "text": [
      "[Parallel(n_jobs=-1)]: Using backend LokyBackend with 2 concurrent workers.\n",
      "[Parallel(n_jobs=-1)]: Done 240 out of 240 | elapsed:    1.8s finished\n"
     ]
    },
    {
     "name": "stdout",
     "output_type": "stream",
     "text": [
      "Successfully saved data to: /content/drive/My Drive/Summer 2025/Python Practice/audio/npz_files/esc50_mfcc_n32_fft1024_ovlp25_seg50ms.npz\\n\n",
      "Starting job for: esc50_mfcc_n32_fft2048_ovlp25_seg50ms.npz\n"
     ]
    },
    {
     "name": "stderr",
     "output_type": "stream",
     "text": [
      "[Parallel(n_jobs=-1)]: Using backend LokyBackend with 2 concurrent workers.\n",
      "[Parallel(n_jobs=-1)]: Done 240 out of 240 | elapsed:    1.8s finished\n",
      "[Parallel(n_jobs=-1)]: Using backend LokyBackend with 2 concurrent workers.\n"
     ]
    },
    {
     "name": "stdout",
     "output_type": "stream",
     "text": [
      "Successfully saved data to: /content/drive/My Drive/Summer 2025/Python Practice/audio/npz_files/esc50_mfcc_n32_fft2048_ovlp25_seg50ms.npz\\n\n",
      "Starting job for: esc50_mfcc_n64_fft512_ovlp25_seg50ms.npz\n"
     ]
    },
    {
     "name": "stderr",
     "output_type": "stream",
     "text": [
      "[Parallel(n_jobs=-1)]: Done 240 out of 240 | elapsed:    2.1s finished\n"
     ]
    },
    {
     "name": "stdout",
     "output_type": "stream",
     "text": [
      "Successfully saved data to: /content/drive/My Drive/Summer 2025/Python Practice/audio/npz_files/esc50_mfcc_n64_fft512_ovlp25_seg50ms.npz\\n\n",
      "Starting job for: esc50_mfcc_n64_fft1024_ovlp25_seg50ms.npz\n"
     ]
    },
    {
     "name": "stderr",
     "output_type": "stream",
     "text": [
      "[Parallel(n_jobs=-1)]: Using backend LokyBackend with 2 concurrent workers.\n",
      "[Parallel(n_jobs=-1)]: Done 240 out of 240 | elapsed:    3.0s finished\n"
     ]
    },
    {
     "name": "stdout",
     "output_type": "stream",
     "text": [
      "Successfully saved data to: /content/drive/My Drive/Summer 2025/Python Practice/audio/npz_files/esc50_mfcc_n64_fft1024_ovlp25_seg50ms.npz\\n\n",
      "Starting job for: esc50_mfcc_n64_fft2048_ovlp25_seg50ms.npz\n"
     ]
    },
    {
     "name": "stderr",
     "output_type": "stream",
     "text": [
      "[Parallel(n_jobs=-1)]: Using backend LokyBackend with 2 concurrent workers.\n",
      "[Parallel(n_jobs=-1)]: Done 240 out of 240 | elapsed:    1.8s finished\n"
     ]
    },
    {
     "name": "stdout",
     "output_type": "stream",
     "text": [
      "Successfully saved data to: /content/drive/My Drive/Summer 2025/Python Practice/audio/npz_files/esc50_mfcc_n64_fft2048_ovlp25_seg50ms.npz\\n\n",
      "Starting job for: esc50_mfcc_n128_fft512_ovlp25_seg50ms.npz\n"
     ]
    },
    {
     "name": "stderr",
     "output_type": "stream",
     "text": [
      "[Parallel(n_jobs=-1)]: Using backend LokyBackend with 2 concurrent workers.\n",
      "[Parallel(n_jobs=-1)]: Done 240 out of 240 | elapsed:    1.9s finished\n"
     ]
    },
    {
     "name": "stdout",
     "output_type": "stream",
     "text": [
      "Successfully saved data to: /content/drive/My Drive/Summer 2025/Python Practice/audio/npz_files/esc50_mfcc_n128_fft512_ovlp25_seg50ms.npz\\n\n",
      "Starting job for: esc50_mfcc_n128_fft1024_ovlp25_seg50ms.npz\n"
     ]
    },
    {
     "name": "stderr",
     "output_type": "stream",
     "text": [
      "[Parallel(n_jobs=-1)]: Using backend LokyBackend with 2 concurrent workers.\n",
      "[Parallel(n_jobs=-1)]: Done 240 out of 240 | elapsed:    1.9s finished\n"
     ]
    },
    {
     "name": "stdout",
     "output_type": "stream",
     "text": [
      "Successfully saved data to: /content/drive/My Drive/Summer 2025/Python Practice/audio/npz_files/esc50_mfcc_n128_fft1024_ovlp25_seg50ms.npz\\n\n",
      "Starting job for: esc50_mfcc_n128_fft2048_ovlp25_seg50ms.npz\n"
     ]
    },
    {
     "name": "stderr",
     "output_type": "stream",
     "text": [
      "[Parallel(n_jobs=-1)]: Using backend LokyBackend with 2 concurrent workers.\n",
      "[Parallel(n_jobs=-1)]: Done 240 out of 240 | elapsed:    3.0s finished\n"
     ]
    },
    {
     "name": "stdout",
     "output_type": "stream",
     "text": [
      "Successfully saved data to: /content/drive/My Drive/Summer 2025/Python Practice/audio/npz_files/esc50_mfcc_n128_fft2048_ovlp25_seg50ms.npz\\n\n",
      "Starting job for: esc50_mfcc_n32_fft512_ovlp25_seg100ms.npz\n"
     ]
    },
    {
     "name": "stderr",
     "output_type": "stream",
     "text": [
      "[Parallel(n_jobs=-1)]: Using backend LokyBackend with 2 concurrent workers.\n",
      "[Parallel(n_jobs=-1)]: Done 240 out of 240 | elapsed:    2.2s finished\n"
     ]
    },
    {
     "name": "stdout",
     "output_type": "stream",
     "text": [
      "Successfully saved data to: /content/drive/My Drive/Summer 2025/Python Practice/audio/npz_files/esc50_mfcc_n32_fft512_ovlp25_seg100ms.npz\\n\n",
      "Starting job for: esc50_mfcc_n32_fft1024_ovlp25_seg100ms.npz\n"
     ]
    },
    {
     "name": "stderr",
     "output_type": "stream",
     "text": [
      "[Parallel(n_jobs=-1)]: Using backend LokyBackend with 2 concurrent workers.\n",
      "[Parallel(n_jobs=-1)]: Done 240 out of 240 | elapsed:    1.8s finished\n"
     ]
    },
    {
     "name": "stdout",
     "output_type": "stream",
     "text": [
      "Successfully saved data to: /content/drive/My Drive/Summer 2025/Python Practice/audio/npz_files/esc50_mfcc_n32_fft1024_ovlp25_seg100ms.npz\\n\n",
      "Starting job for: esc50_mfcc_n32_fft2048_ovlp25_seg100ms.npz\n"
     ]
    },
    {
     "name": "stderr",
     "output_type": "stream",
     "text": [
      "[Parallel(n_jobs=-1)]: Using backend LokyBackend with 2 concurrent workers.\n",
      "[Parallel(n_jobs=-1)]: Done 240 out of 240 | elapsed:    1.8s finished\n",
      "[Parallel(n_jobs=-1)]: Using backend LokyBackend with 2 concurrent workers.\n"
     ]
    },
    {
     "name": "stdout",
     "output_type": "stream",
     "text": [
      "Successfully saved data to: /content/drive/My Drive/Summer 2025/Python Practice/audio/npz_files/esc50_mfcc_n32_fft2048_ovlp25_seg100ms.npz\\n\n",
      "Starting job for: esc50_mfcc_n64_fft512_ovlp25_seg100ms.npz\n"
     ]
    },
    {
     "name": "stderr",
     "output_type": "stream",
     "text": [
      "[Parallel(n_jobs=-1)]: Done 240 out of 240 | elapsed:    1.8s finished\n"
     ]
    },
    {
     "name": "stdout",
     "output_type": "stream",
     "text": [
      "Successfully saved data to: /content/drive/My Drive/Summer 2025/Python Practice/audio/npz_files/esc50_mfcc_n64_fft512_ovlp25_seg100ms.npz\\n\n",
      "Starting job for: esc50_mfcc_n64_fft1024_ovlp25_seg100ms.npz\n"
     ]
    },
    {
     "name": "stderr",
     "output_type": "stream",
     "text": [
      "[Parallel(n_jobs=-1)]: Using backend LokyBackend with 2 concurrent workers.\n",
      "[Parallel(n_jobs=-1)]: Done 240 out of 240 | elapsed:    1.7s finished\n"
     ]
    },
    {
     "name": "stdout",
     "output_type": "stream",
     "text": [
      "Successfully saved data to: /content/drive/My Drive/Summer 2025/Python Practice/audio/npz_files/esc50_mfcc_n64_fft1024_ovlp25_seg100ms.npz\\n\n",
      "Starting job for: esc50_mfcc_n64_fft2048_ovlp25_seg100ms.npz\n"
     ]
    },
    {
     "name": "stderr",
     "output_type": "stream",
     "text": [
      "[Parallel(n_jobs=-1)]: Using backend LokyBackend with 2 concurrent workers.\n",
      "[Parallel(n_jobs=-1)]: Done 240 out of 240 | elapsed:    2.9s finished\n"
     ]
    },
    {
     "name": "stdout",
     "output_type": "stream",
     "text": [
      "Successfully saved data to: /content/drive/My Drive/Summer 2025/Python Practice/audio/npz_files/esc50_mfcc_n64_fft2048_ovlp25_seg100ms.npz\\n\n",
      "Starting job for: esc50_mfcc_n128_fft512_ovlp25_seg100ms.npz\n"
     ]
    },
    {
     "name": "stderr",
     "output_type": "stream",
     "text": [
      "[Parallel(n_jobs=-1)]: Using backend LokyBackend with 2 concurrent workers.\n",
      "[Parallel(n_jobs=-1)]: Done 240 out of 240 | elapsed:    2.0s finished\n"
     ]
    },
    {
     "name": "stdout",
     "output_type": "stream",
     "text": [
      "Successfully saved data to: /content/drive/My Drive/Summer 2025/Python Practice/audio/npz_files/esc50_mfcc_n128_fft512_ovlp25_seg100ms.npz\\n\n",
      "Starting job for: esc50_mfcc_n128_fft1024_ovlp25_seg100ms.npz\n"
     ]
    },
    {
     "name": "stderr",
     "output_type": "stream",
     "text": [
      "[Parallel(n_jobs=-1)]: Using backend LokyBackend with 2 concurrent workers.\n",
      "[Parallel(n_jobs=-1)]: Done 240 out of 240 | elapsed:    1.7s finished\n"
     ]
    },
    {
     "name": "stdout",
     "output_type": "stream",
     "text": [
      "Successfully saved data to: /content/drive/My Drive/Summer 2025/Python Practice/audio/npz_files/esc50_mfcc_n128_fft1024_ovlp25_seg100ms.npz\\n\n",
      "Starting job for: esc50_mfcc_n128_fft2048_ovlp25_seg100ms.npz\n"
     ]
    },
    {
     "name": "stderr",
     "output_type": "stream",
     "text": [
      "[Parallel(n_jobs=-1)]: Using backend LokyBackend with 2 concurrent workers.\n",
      "[Parallel(n_jobs=-1)]: Done 240 out of 240 | elapsed:    1.7s finished\n"
     ]
    },
    {
     "name": "stdout",
     "output_type": "stream",
     "text": [
      "Successfully saved data to: /content/drive/My Drive/Summer 2025/Python Practice/audio/npz_files/esc50_mfcc_n128_fft2048_ovlp25_seg100ms.npz\\n\n",
      "Starting job for: esc50_mfcc_n32_fft512_ovlp25_seg200ms.npz\n"
     ]
    },
    {
     "name": "stderr",
     "output_type": "stream",
     "text": [
      "[Parallel(n_jobs=-1)]: Using backend LokyBackend with 2 concurrent workers.\n",
      "[Parallel(n_jobs=-1)]: Done 234 tasks      | elapsed:    2.1s\n",
      "[Parallel(n_jobs=-1)]: Done 237 out of 240 | elapsed:    2.1s remaining:    0.0s\n",
      "[Parallel(n_jobs=-1)]: Done 240 out of 240 | elapsed:    2.2s finished\n"
     ]
    },
    {
     "name": "stdout",
     "output_type": "stream",
     "text": [
      "Successfully saved data to: /content/drive/My Drive/Summer 2025/Python Practice/audio/npz_files/esc50_mfcc_n32_fft512_ovlp25_seg200ms.npz\\n\n",
      "Starting job for: esc50_mfcc_n32_fft1024_ovlp25_seg200ms.npz\n"
     ]
    },
    {
     "name": "stderr",
     "output_type": "stream",
     "text": [
      "[Parallel(n_jobs=-1)]: Using backend LokyBackend with 2 concurrent workers.\n",
      "[Parallel(n_jobs=-1)]: Done 235 tasks      | elapsed:    2.7s\n",
      "[Parallel(n_jobs=-1)]: Done 237 out of 240 | elapsed:    2.7s remaining:    0.0s\n",
      "[Parallel(n_jobs=-1)]: Done 240 out of 240 | elapsed:    2.7s finished\n"
     ]
    },
    {
     "name": "stdout",
     "output_type": "stream",
     "text": [
      "Successfully saved data to: /content/drive/My Drive/Summer 2025/Python Practice/audio/npz_files/esc50_mfcc_n32_fft1024_ovlp25_seg200ms.npz\\n\n",
      "Starting job for: esc50_mfcc_n32_fft2048_ovlp25_seg200ms.npz\n"
     ]
    },
    {
     "name": "stderr",
     "output_type": "stream",
     "text": [
      "[Parallel(n_jobs=-1)]: Using backend LokyBackend with 2 concurrent workers.\n",
      "[Parallel(n_jobs=-1)]: Done 240 out of 240 | elapsed:    1.6s finished\n",
      "[Parallel(n_jobs=-1)]: Using backend LokyBackend with 2 concurrent workers.\n"
     ]
    },
    {
     "name": "stdout",
     "output_type": "stream",
     "text": [
      "Successfully saved data to: /content/drive/My Drive/Summer 2025/Python Practice/audio/npz_files/esc50_mfcc_n32_fft2048_ovlp25_seg200ms.npz\\n\n",
      "Starting job for: esc50_mfcc_n64_fft512_ovlp25_seg200ms.npz\n"
     ]
    },
    {
     "name": "stderr",
     "output_type": "stream",
     "text": [
      "[Parallel(n_jobs=-1)]: Done 240 out of 240 | elapsed:    1.7s finished\n"
     ]
    },
    {
     "name": "stdout",
     "output_type": "stream",
     "text": [
      "Successfully saved data to: /content/drive/My Drive/Summer 2025/Python Practice/audio/npz_files/esc50_mfcc_n64_fft512_ovlp25_seg200ms.npz\\n\n",
      "Starting job for: esc50_mfcc_n64_fft1024_ovlp25_seg200ms.npz\n"
     ]
    },
    {
     "name": "stderr",
     "output_type": "stream",
     "text": [
      "[Parallel(n_jobs=-1)]: Using backend LokyBackend with 2 concurrent workers.\n",
      "[Parallel(n_jobs=-1)]: Done 240 out of 240 | elapsed:    1.6s finished\n"
     ]
    },
    {
     "name": "stdout",
     "output_type": "stream",
     "text": [
      "Successfully saved data to: /content/drive/My Drive/Summer 2025/Python Practice/audio/npz_files/esc50_mfcc_n64_fft1024_ovlp25_seg200ms.npz\\n\n",
      "Starting job for: esc50_mfcc_n64_fft2048_ovlp25_seg200ms.npz\n"
     ]
    },
    {
     "name": "stderr",
     "output_type": "stream",
     "text": [
      "[Parallel(n_jobs=-1)]: Using backend LokyBackend with 2 concurrent workers.\n",
      "[Parallel(n_jobs=-1)]: Done 240 out of 240 | elapsed:    1.6s finished\n"
     ]
    },
    {
     "name": "stdout",
     "output_type": "stream",
     "text": [
      "Successfully saved data to: /content/drive/My Drive/Summer 2025/Python Practice/audio/npz_files/esc50_mfcc_n64_fft2048_ovlp25_seg200ms.npz\\n\n",
      "Starting job for: esc50_mfcc_n128_fft512_ovlp25_seg200ms.npz\n"
     ]
    },
    {
     "name": "stderr",
     "output_type": "stream",
     "text": [
      "[Parallel(n_jobs=-1)]: Using backend LokyBackend with 2 concurrent workers.\n",
      "[Parallel(n_jobs=-1)]: Done 240 out of 240 | elapsed:    1.8s finished\n"
     ]
    },
    {
     "name": "stdout",
     "output_type": "stream",
     "text": [
      "Successfully saved data to: /content/drive/My Drive/Summer 2025/Python Practice/audio/npz_files/esc50_mfcc_n128_fft512_ovlp25_seg200ms.npz\\n\n",
      "Starting job for: esc50_mfcc_n128_fft1024_ovlp25_seg200ms.npz\n"
     ]
    },
    {
     "name": "stderr",
     "output_type": "stream",
     "text": [
      "[Parallel(n_jobs=-1)]: Using backend LokyBackend with 2 concurrent workers.\n",
      "[Parallel(n_jobs=-1)]: Done 240 out of 240 | elapsed:    2.3s finished\n"
     ]
    },
    {
     "name": "stdout",
     "output_type": "stream",
     "text": [
      "Successfully saved data to: /content/drive/My Drive/Summer 2025/Python Practice/audio/npz_files/esc50_mfcc_n128_fft1024_ovlp25_seg200ms.npz\\n\n",
      "Starting job for: esc50_mfcc_n128_fft2048_ovlp25_seg200ms.npz\n"
     ]
    },
    {
     "name": "stderr",
     "output_type": "stream",
     "text": [
      "[Parallel(n_jobs=-1)]: Using backend LokyBackend with 2 concurrent workers.\n",
      "[Parallel(n_jobs=-1)]: Done 240 out of 240 | elapsed:    1.7s finished\n"
     ]
    },
    {
     "name": "stdout",
     "output_type": "stream",
     "text": [
      "Successfully saved data to: /content/drive/My Drive/Summer 2025/Python Practice/audio/npz_files/esc50_mfcc_n128_fft2048_ovlp25_seg200ms.npz\\n\n",
      "Starting job for: esc50_mfcc_n32_fft512_ovlp25_seg500ms.npz\n"
     ]
    },
    {
     "name": "stderr",
     "output_type": "stream",
     "text": [
      "[Parallel(n_jobs=-1)]: Using backend LokyBackend with 2 concurrent workers.\n",
      "[Parallel(n_jobs=-1)]: Done 240 out of 240 | elapsed:    1.6s finished\n"
     ]
    },
    {
     "name": "stdout",
     "output_type": "stream",
     "text": [
      "Successfully saved data to: /content/drive/My Drive/Summer 2025/Python Practice/audio/npz_files/esc50_mfcc_n32_fft512_ovlp25_seg500ms.npz\\n\n",
      "Starting job for: esc50_mfcc_n32_fft1024_ovlp25_seg500ms.npz\n"
     ]
    },
    {
     "name": "stderr",
     "output_type": "stream",
     "text": [
      "[Parallel(n_jobs=-1)]: Using backend LokyBackend with 2 concurrent workers.\n",
      "[Parallel(n_jobs=-1)]: Done 240 out of 240 | elapsed:    1.5s finished\n"
     ]
    },
    {
     "name": "stdout",
     "output_type": "stream",
     "text": [
      "Successfully saved data to: /content/drive/My Drive/Summer 2025/Python Practice/audio/npz_files/esc50_mfcc_n32_fft1024_ovlp25_seg500ms.npz\\n\n",
      "Starting job for: esc50_mfcc_n32_fft2048_ovlp25_seg500ms.npz\n"
     ]
    },
    {
     "name": "stderr",
     "output_type": "stream",
     "text": [
      "[Parallel(n_jobs=-1)]: Using backend LokyBackend with 2 concurrent workers.\n",
      "[Parallel(n_jobs=-1)]: Done 240 out of 240 | elapsed:    1.6s finished\n",
      "[Parallel(n_jobs=-1)]: Using backend LokyBackend with 2 concurrent workers.\n"
     ]
    },
    {
     "name": "stdout",
     "output_type": "stream",
     "text": [
      "Successfully saved data to: /content/drive/My Drive/Summer 2025/Python Practice/audio/npz_files/esc50_mfcc_n32_fft2048_ovlp25_seg500ms.npz\\n\n",
      "Starting job for: esc50_mfcc_n64_fft512_ovlp25_seg500ms.npz\n"
     ]
    },
    {
     "name": "stderr",
     "output_type": "stream",
     "text": [
      "[Parallel(n_jobs=-1)]: Done 240 out of 240 | elapsed:    2.3s finished\n"
     ]
    },
    {
     "name": "stdout",
     "output_type": "stream",
     "text": [
      "Successfully saved data to: /content/drive/My Drive/Summer 2025/Python Practice/audio/npz_files/esc50_mfcc_n64_fft512_ovlp25_seg500ms.npz\\n\n",
      "Starting job for: esc50_mfcc_n64_fft1024_ovlp25_seg500ms.npz\n"
     ]
    },
    {
     "name": "stderr",
     "output_type": "stream",
     "text": [
      "[Parallel(n_jobs=-1)]: Using backend LokyBackend with 2 concurrent workers.\n",
      "[Parallel(n_jobs=-1)]: Done 240 out of 240 | elapsed:    2.4s finished\n"
     ]
    },
    {
     "name": "stdout",
     "output_type": "stream",
     "text": [
      "Successfully saved data to: /content/drive/My Drive/Summer 2025/Python Practice/audio/npz_files/esc50_mfcc_n64_fft1024_ovlp25_seg500ms.npz\\n\n",
      "Starting job for: esc50_mfcc_n64_fft2048_ovlp25_seg500ms.npz\n"
     ]
    },
    {
     "name": "stderr",
     "output_type": "stream",
     "text": [
      "[Parallel(n_jobs=-1)]: Using backend LokyBackend with 2 concurrent workers.\n",
      "[Parallel(n_jobs=-1)]: Done 240 out of 240 | elapsed:    1.6s finished\n"
     ]
    },
    {
     "name": "stdout",
     "output_type": "stream",
     "text": [
      "Successfully saved data to: /content/drive/My Drive/Summer 2025/Python Practice/audio/npz_files/esc50_mfcc_n64_fft2048_ovlp25_seg500ms.npz\\n\n",
      "Starting job for: esc50_mfcc_n128_fft512_ovlp25_seg500ms.npz\n"
     ]
    },
    {
     "name": "stderr",
     "output_type": "stream",
     "text": [
      "[Parallel(n_jobs=-1)]: Using backend LokyBackend with 2 concurrent workers.\n",
      "[Parallel(n_jobs=-1)]: Done 240 out of 240 | elapsed:    1.7s finished\n"
     ]
    },
    {
     "name": "stdout",
     "output_type": "stream",
     "text": [
      "Successfully saved data to: /content/drive/My Drive/Summer 2025/Python Practice/audio/npz_files/esc50_mfcc_n128_fft512_ovlp25_seg500ms.npz\\n\n",
      "Starting job for: esc50_mfcc_n128_fft1024_ovlp25_seg500ms.npz\n"
     ]
    },
    {
     "name": "stderr",
     "output_type": "stream",
     "text": [
      "[Parallel(n_jobs=-1)]: Using backend LokyBackend with 2 concurrent workers.\n",
      "[Parallel(n_jobs=-1)]: Done 240 out of 240 | elapsed:    1.6s finished\n"
     ]
    },
    {
     "name": "stdout",
     "output_type": "stream",
     "text": [
      "Successfully saved data to: /content/drive/My Drive/Summer 2025/Python Practice/audio/npz_files/esc50_mfcc_n128_fft1024_ovlp25_seg500ms.npz\\n\n",
      "Starting job for: esc50_mfcc_n128_fft2048_ovlp25_seg500ms.npz\n"
     ]
    },
    {
     "name": "stderr",
     "output_type": "stream",
     "text": [
      "[Parallel(n_jobs=-1)]: Using backend LokyBackend with 2 concurrent workers.\n",
      "[Parallel(n_jobs=-1)]: Done 240 out of 240 | elapsed:    2.0s finished\n"
     ]
    },
    {
     "name": "stdout",
     "output_type": "stream",
     "text": [
      "Successfully saved data to: /content/drive/My Drive/Summer 2025/Python Practice/audio/npz_files/esc50_mfcc_n128_fft2048_ovlp25_seg500ms.npz\\n\n",
      "Starting job for: esc50_mfcc_n32_fft512_ovlp25_seg1000ms.npz\n"
     ]
    },
    {
     "name": "stderr",
     "output_type": "stream",
     "text": [
      "[Parallel(n_jobs=-1)]: Using backend LokyBackend with 2 concurrent workers.\n",
      "[Parallel(n_jobs=-1)]: Done 240 out of 240 | elapsed:    2.9s finished\n"
     ]
    },
    {
     "name": "stdout",
     "output_type": "stream",
     "text": [
      "Successfully saved data to: /content/drive/My Drive/Summer 2025/Python Practice/audio/npz_files/esc50_mfcc_n32_fft512_ovlp25_seg1000ms.npz\\n\n",
      "Starting job for: esc50_mfcc_n32_fft1024_ovlp25_seg1000ms.npz\n"
     ]
    },
    {
     "name": "stderr",
     "output_type": "stream",
     "text": [
      "[Parallel(n_jobs=-1)]: Using backend LokyBackend with 2 concurrent workers.\n",
      "[Parallel(n_jobs=-1)]: Done 240 out of 240 | elapsed:    1.6s finished\n"
     ]
    },
    {
     "name": "stdout",
     "output_type": "stream",
     "text": [
      "Successfully saved data to: /content/drive/My Drive/Summer 2025/Python Practice/audio/npz_files/esc50_mfcc_n32_fft1024_ovlp25_seg1000ms.npz\\n\n",
      "Starting job for: esc50_mfcc_n32_fft2048_ovlp25_seg1000ms.npz\n"
     ]
    },
    {
     "name": "stderr",
     "output_type": "stream",
     "text": [
      "[Parallel(n_jobs=-1)]: Using backend LokyBackend with 2 concurrent workers.\n",
      "[Parallel(n_jobs=-1)]: Done 240 out of 240 | elapsed:    1.6s finished\n",
      "[Parallel(n_jobs=-1)]: Using backend LokyBackend with 2 concurrent workers.\n"
     ]
    },
    {
     "name": "stdout",
     "output_type": "stream",
     "text": [
      "Successfully saved data to: /content/drive/My Drive/Summer 2025/Python Practice/audio/npz_files/esc50_mfcc_n32_fft2048_ovlp25_seg1000ms.npz\\n\n",
      "Starting job for: esc50_mfcc_n64_fft512_ovlp25_seg1000ms.npz\n"
     ]
    },
    {
     "name": "stderr",
     "output_type": "stream",
     "text": [
      "[Parallel(n_jobs=-1)]: Done 240 out of 240 | elapsed:    1.6s finished\n"
     ]
    },
    {
     "name": "stdout",
     "output_type": "stream",
     "text": [
      "Successfully saved data to: /content/drive/My Drive/Summer 2025/Python Practice/audio/npz_files/esc50_mfcc_n64_fft512_ovlp25_seg1000ms.npz\\n\n",
      "Starting job for: esc50_mfcc_n64_fft1024_ovlp25_seg1000ms.npz\n"
     ]
    },
    {
     "name": "stderr",
     "output_type": "stream",
     "text": [
      "[Parallel(n_jobs=-1)]: Using backend LokyBackend with 2 concurrent workers.\n",
      "[Parallel(n_jobs=-1)]: Done 240 out of 240 | elapsed:    1.5s finished\n"
     ]
    },
    {
     "name": "stdout",
     "output_type": "stream",
     "text": [
      "Successfully saved data to: /content/drive/My Drive/Summer 2025/Python Practice/audio/npz_files/esc50_mfcc_n64_fft1024_ovlp25_seg1000ms.npz\\n\n",
      "Starting job for: esc50_mfcc_n64_fft2048_ovlp25_seg1000ms.npz\n"
     ]
    },
    {
     "name": "stderr",
     "output_type": "stream",
     "text": [
      "[Parallel(n_jobs=-1)]: Using backend LokyBackend with 2 concurrent workers.\n",
      "[Parallel(n_jobs=-1)]: Done 240 out of 240 | elapsed:    1.6s finished\n"
     ]
    },
    {
     "name": "stdout",
     "output_type": "stream",
     "text": [
      "Successfully saved data to: /content/drive/My Drive/Summer 2025/Python Practice/audio/npz_files/esc50_mfcc_n64_fft2048_ovlp25_seg1000ms.npz\\n\n",
      "Starting job for: esc50_mfcc_n128_fft512_ovlp25_seg1000ms.npz\n"
     ]
    },
    {
     "name": "stderr",
     "output_type": "stream",
     "text": [
      "[Parallel(n_jobs=-1)]: Using backend LokyBackend with 2 concurrent workers.\n",
      "[Parallel(n_jobs=-1)]: Done 240 out of 240 | elapsed:    2.8s finished\n"
     ]
    },
    {
     "name": "stdout",
     "output_type": "stream",
     "text": [
      "Successfully saved data to: /content/drive/My Drive/Summer 2025/Python Practice/audio/npz_files/esc50_mfcc_n128_fft512_ovlp25_seg1000ms.npz\\n\n",
      "Starting job for: esc50_mfcc_n128_fft1024_ovlp25_seg1000ms.npz\n"
     ]
    },
    {
     "name": "stderr",
     "output_type": "stream",
     "text": [
      "[Parallel(n_jobs=-1)]: Using backend LokyBackend with 2 concurrent workers.\n",
      "[Parallel(n_jobs=-1)]: Done 240 out of 240 | elapsed:    1.6s finished\n"
     ]
    },
    {
     "name": "stdout",
     "output_type": "stream",
     "text": [
      "Successfully saved data to: /content/drive/My Drive/Summer 2025/Python Practice/audio/npz_files/esc50_mfcc_n128_fft1024_ovlp25_seg1000ms.npz\\n\n",
      "Starting job for: esc50_mfcc_n128_fft2048_ovlp25_seg1000ms.npz\n"
     ]
    },
    {
     "name": "stderr",
     "output_type": "stream",
     "text": [
      "[Parallel(n_jobs=-1)]: Using backend LokyBackend with 2 concurrent workers.\n",
      "[Parallel(n_jobs=-1)]: Done 240 out of 240 | elapsed:    1.6s finished\n"
     ]
    },
    {
     "name": "stdout",
     "output_type": "stream",
     "text": [
      "Successfully saved data to: /content/drive/My Drive/Summer 2025/Python Practice/audio/npz_files/esc50_mfcc_n128_fft2048_ovlp25_seg1000ms.npz\\n\n",
      "Starting job for: esc50_mfcc_n32_fft512_ovlp25_seg2000ms.npz\n"
     ]
    },
    {
     "name": "stderr",
     "output_type": "stream",
     "text": [
      "[Parallel(n_jobs=-1)]: Using backend LokyBackend with 2 concurrent workers.\n",
      "[Parallel(n_jobs=-1)]: Done 240 out of 240 | elapsed:    1.5s finished\n"
     ]
    },
    {
     "name": "stdout",
     "output_type": "stream",
     "text": [
      "Successfully saved data to: /content/drive/My Drive/Summer 2025/Python Practice/audio/npz_files/esc50_mfcc_n32_fft512_ovlp25_seg2000ms.npz\\n\n",
      "Starting job for: esc50_mfcc_n32_fft1024_ovlp25_seg2000ms.npz\n"
     ]
    },
    {
     "name": "stderr",
     "output_type": "stream",
     "text": [
      "[Parallel(n_jobs=-1)]: Using backend LokyBackend with 2 concurrent workers.\n",
      "[Parallel(n_jobs=-1)]: Done 240 out of 240 | elapsed:    1.6s finished\n"
     ]
    },
    {
     "name": "stdout",
     "output_type": "stream",
     "text": [
      "Successfully saved data to: /content/drive/My Drive/Summer 2025/Python Practice/audio/npz_files/esc50_mfcc_n32_fft1024_ovlp25_seg2000ms.npz\\n\n",
      "Starting job for: esc50_mfcc_n32_fft2048_ovlp25_seg2000ms.npz\n"
     ]
    },
    {
     "name": "stderr",
     "output_type": "stream",
     "text": [
      "[Parallel(n_jobs=-1)]: Using backend LokyBackend with 2 concurrent workers.\n",
      "[Parallel(n_jobs=-1)]: Done 240 out of 240 | elapsed:    1.7s finished\n",
      "[Parallel(n_jobs=-1)]: Using backend LokyBackend with 2 concurrent workers.\n"
     ]
    },
    {
     "name": "stdout",
     "output_type": "stream",
     "text": [
      "Successfully saved data to: /content/drive/My Drive/Summer 2025/Python Practice/audio/npz_files/esc50_mfcc_n32_fft2048_ovlp25_seg2000ms.npz\\n\n",
      "Starting job for: esc50_mfcc_n64_fft512_ovlp25_seg2000ms.npz\n"
     ]
    },
    {
     "name": "stderr",
     "output_type": "stream",
     "text": [
      "[Parallel(n_jobs=-1)]: Done 240 out of 240 | elapsed:    2.7s finished\n"
     ]
    },
    {
     "name": "stdout",
     "output_type": "stream",
     "text": [
      "Successfully saved data to: /content/drive/My Drive/Summer 2025/Python Practice/audio/npz_files/esc50_mfcc_n64_fft512_ovlp25_seg2000ms.npz\\n\n",
      "Starting job for: esc50_mfcc_n64_fft1024_ovlp25_seg2000ms.npz\n"
     ]
    },
    {
     "name": "stderr",
     "output_type": "stream",
     "text": [
      "[Parallel(n_jobs=-1)]: Using backend LokyBackend with 2 concurrent workers.\n",
      "[Parallel(n_jobs=-1)]: Done 240 out of 240 | elapsed:    1.5s finished\n"
     ]
    },
    {
     "name": "stdout",
     "output_type": "stream",
     "text": [
      "Successfully saved data to: /content/drive/My Drive/Summer 2025/Python Practice/audio/npz_files/esc50_mfcc_n64_fft1024_ovlp25_seg2000ms.npz\\n\n",
      "Starting job for: esc50_mfcc_n64_fft2048_ovlp25_seg2000ms.npz\n"
     ]
    },
    {
     "name": "stderr",
     "output_type": "stream",
     "text": [
      "[Parallel(n_jobs=-1)]: Using backend LokyBackend with 2 concurrent workers.\n",
      "[Parallel(n_jobs=-1)]: Done 240 out of 240 | elapsed:    1.6s finished\n"
     ]
    },
    {
     "name": "stdout",
     "output_type": "stream",
     "text": [
      "Successfully saved data to: /content/drive/My Drive/Summer 2025/Python Practice/audio/npz_files/esc50_mfcc_n64_fft2048_ovlp25_seg2000ms.npz\\n\n",
      "Starting job for: esc50_mfcc_n128_fft512_ovlp25_seg2000ms.npz\n"
     ]
    },
    {
     "name": "stderr",
     "output_type": "stream",
     "text": [
      "[Parallel(n_jobs=-1)]: Using backend LokyBackend with 2 concurrent workers.\n",
      "[Parallel(n_jobs=-1)]: Done 240 out of 240 | elapsed:    1.6s finished\n"
     ]
    },
    {
     "name": "stdout",
     "output_type": "stream",
     "text": [
      "Successfully saved data to: /content/drive/My Drive/Summer 2025/Python Practice/audio/npz_files/esc50_mfcc_n128_fft512_ovlp25_seg2000ms.npz\\n\n",
      "Starting job for: esc50_mfcc_n128_fft1024_ovlp25_seg2000ms.npz\n"
     ]
    },
    {
     "name": "stderr",
     "output_type": "stream",
     "text": [
      "[Parallel(n_jobs=-1)]: Using backend LokyBackend with 2 concurrent workers.\n",
      "[Parallel(n_jobs=-1)]: Done 240 out of 240 | elapsed:    1.5s finished\n"
     ]
    },
    {
     "name": "stdout",
     "output_type": "stream",
     "text": [
      "Successfully saved data to: /content/drive/My Drive/Summer 2025/Python Practice/audio/npz_files/esc50_mfcc_n128_fft1024_ovlp25_seg2000ms.npz\\n\n",
      "Starting job for: esc50_mfcc_n128_fft2048_ovlp25_seg2000ms.npz\n"
     ]
    },
    {
     "name": "stderr",
     "output_type": "stream",
     "text": [
      "[Parallel(n_jobs=-1)]: Using backend LokyBackend with 2 concurrent workers.\n",
      "[Parallel(n_jobs=-1)]: Done 240 out of 240 | elapsed:    2.1s finished\n"
     ]
    },
    {
     "name": "stdout",
     "output_type": "stream",
     "text": [
      "Successfully saved data to: /content/drive/My Drive/Summer 2025/Python Practice/audio/npz_files/esc50_mfcc_n128_fft2048_ovlp25_seg2000ms.npz\\n\n",
      "Starting job for: esc50_mfcc_n32_fft512_ovlp25_seg5000ms.npz\n"
     ]
    },
    {
     "name": "stderr",
     "output_type": "stream",
     "text": [
      "[Parallel(n_jobs=-1)]: Using backend LokyBackend with 2 concurrent workers.\n",
      "[Parallel(n_jobs=-1)]: Done 240 out of 240 | elapsed:    2.7s finished\n"
     ]
    },
    {
     "name": "stdout",
     "output_type": "stream",
     "text": [
      "Successfully saved data to: /content/drive/My Drive/Summer 2025/Python Practice/audio/npz_files/esc50_mfcc_n32_fft512_ovlp25_seg5000ms.npz\\n\n",
      "Starting job for: esc50_mfcc_n32_fft1024_ovlp25_seg5000ms.npz\n"
     ]
    },
    {
     "name": "stderr",
     "output_type": "stream",
     "text": [
      "[Parallel(n_jobs=-1)]: Using backend LokyBackend with 2 concurrent workers.\n",
      "[Parallel(n_jobs=-1)]: Done 240 out of 240 | elapsed:    1.5s finished\n"
     ]
    },
    {
     "name": "stdout",
     "output_type": "stream",
     "text": [
      "Successfully saved data to: /content/drive/My Drive/Summer 2025/Python Practice/audio/npz_files/esc50_mfcc_n32_fft1024_ovlp25_seg5000ms.npz\\n\n",
      "Starting job for: esc50_mfcc_n32_fft2048_ovlp25_seg5000ms.npz\n"
     ]
    },
    {
     "name": "stderr",
     "output_type": "stream",
     "text": [
      "[Parallel(n_jobs=-1)]: Using backend LokyBackend with 2 concurrent workers.\n",
      "[Parallel(n_jobs=-1)]: Done 240 out of 240 | elapsed:    1.5s finished\n",
      "[Parallel(n_jobs=-1)]: Using backend LokyBackend with 2 concurrent workers.\n"
     ]
    },
    {
     "name": "stdout",
     "output_type": "stream",
     "text": [
      "Successfully saved data to: /content/drive/My Drive/Summer 2025/Python Practice/audio/npz_files/esc50_mfcc_n32_fft2048_ovlp25_seg5000ms.npz\\n\n",
      "Starting job for: esc50_mfcc_n64_fft512_ovlp25_seg5000ms.npz\n"
     ]
    },
    {
     "name": "stderr",
     "output_type": "stream",
     "text": [
      "[Parallel(n_jobs=-1)]: Done 240 out of 240 | elapsed:    1.5s finished\n"
     ]
    },
    {
     "name": "stdout",
     "output_type": "stream",
     "text": [
      "Successfully saved data to: /content/drive/My Drive/Summer 2025/Python Practice/audio/npz_files/esc50_mfcc_n64_fft512_ovlp25_seg5000ms.npz\\n\n",
      "Starting job for: esc50_mfcc_n64_fft1024_ovlp25_seg5000ms.npz\n"
     ]
    },
    {
     "name": "stderr",
     "output_type": "stream",
     "text": [
      "[Parallel(n_jobs=-1)]: Using backend LokyBackend with 2 concurrent workers.\n",
      "[Parallel(n_jobs=-1)]: Done 240 out of 240 | elapsed:    1.6s finished\n"
     ]
    },
    {
     "name": "stdout",
     "output_type": "stream",
     "text": [
      "Successfully saved data to: /content/drive/My Drive/Summer 2025/Python Practice/audio/npz_files/esc50_mfcc_n64_fft1024_ovlp25_seg5000ms.npz\\n\n",
      "Starting job for: esc50_mfcc_n64_fft2048_ovlp25_seg5000ms.npz\n"
     ]
    },
    {
     "name": "stderr",
     "output_type": "stream",
     "text": [
      "[Parallel(n_jobs=-1)]: Using backend LokyBackend with 2 concurrent workers.\n",
      "[Parallel(n_jobs=-1)]: Done 240 out of 240 | elapsed:    2.0s finished\n"
     ]
    },
    {
     "name": "stdout",
     "output_type": "stream",
     "text": [
      "Successfully saved data to: /content/drive/My Drive/Summer 2025/Python Practice/audio/npz_files/esc50_mfcc_n64_fft2048_ovlp25_seg5000ms.npz\\n\n",
      "Starting job for: esc50_mfcc_n128_fft512_ovlp25_seg5000ms.npz\n"
     ]
    },
    {
     "name": "stderr",
     "output_type": "stream",
     "text": [
      "[Parallel(n_jobs=-1)]: Using backend LokyBackend with 2 concurrent workers.\n",
      "[Parallel(n_jobs=-1)]: Done 240 out of 240 | elapsed:    2.7s finished\n"
     ]
    },
    {
     "name": "stdout",
     "output_type": "stream",
     "text": [
      "Successfully saved data to: /content/drive/My Drive/Summer 2025/Python Practice/audio/npz_files/esc50_mfcc_n128_fft512_ovlp25_seg5000ms.npz\\n\n",
      "Starting job for: esc50_mfcc_n128_fft1024_ovlp25_seg5000ms.npz\n"
     ]
    },
    {
     "name": "stderr",
     "output_type": "stream",
     "text": [
      "[Parallel(n_jobs=-1)]: Using backend LokyBackend with 2 concurrent workers.\n",
      "[Parallel(n_jobs=-1)]: Done 240 out of 240 | elapsed:    1.6s finished\n"
     ]
    },
    {
     "name": "stdout",
     "output_type": "stream",
     "text": [
      "Successfully saved data to: /content/drive/My Drive/Summer 2025/Python Practice/audio/npz_files/esc50_mfcc_n128_fft1024_ovlp25_seg5000ms.npz\\n\n",
      "Starting job for: esc50_mfcc_n128_fft2048_ovlp25_seg5000ms.npz\n"
     ]
    },
    {
     "name": "stderr",
     "output_type": "stream",
     "text": [
      "[Parallel(n_jobs=-1)]: Using backend LokyBackend with 2 concurrent workers.\n",
      "[Parallel(n_jobs=-1)]: Done 240 out of 240 | elapsed:    1.6s finished\n"
     ]
    },
    {
     "name": "stdout",
     "output_type": "stream",
     "text": [
      "Successfully saved data to: /content/drive/My Drive/Summer 2025/Python Practice/audio/npz_files/esc50_mfcc_n128_fft2048_ovlp25_seg5000ms.npz\\n\n",
      "--- All preprocessing jobs are complete! ---\n"
     ]
    }
   ],
   "source": [
    "#   --- Create MFCCs with different configurations (25% overlap) ---\n",
    "# Define the parameter ranges to test\n",
    "segment_durations = [5.0, 2.0, 1.0, 0.5, 0.2, 0.1, 0.05, 0.025]\n",
    "n_mfccs= [32, 64, 128]\n",
    "n_fft = [512, 1024, 2048]\n",
    "\n",
    "# Loop through each combination of parameters\n",
    "for seg_duration in segment_durations:\n",
    "  for mfcc in n_mfccs:\n",
    "    for fft in n_fft:\n",
    "        save_features_to_npz(df_balanced,\n",
    "                            num_mfcc=mfcc,\n",
    "                            n_fft=fft,\n",
    "                            overlap=0.25,\n",
    "                            segment_duration_s=seg_duration)\n",
    "\n",
    "print(\"--- All preprocessing jobs are complete! ---\")"
   ]
  }
 ],
 "metadata": {
  "colab": {
   "authorship_tag": "ABX9TyOB0EuvNjID4aqd2XFUR83r",
   "provenance": []
  },
  "kernelspec": {
   "display_name": "Python 3",
   "name": "python3"
  },
  "language_info": {
   "name": "python"
  }
 },
 "nbformat": 4,
 "nbformat_minor": 0
}
